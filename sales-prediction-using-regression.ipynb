{
 "cells": [
  {
   "cell_type": "markdown",
   "id": "5730648d",
   "metadata": {
    "_cell_guid": "b1076dfc-b9ad-4769-8c92-a6c4dae69d19",
    "_uuid": "8f2839f25d086af736a60e9eeb907d3b93b6e0e5",
    "execution": {
     "iopub.execute_input": "2024-02-25T19:03:58.862386Z",
     "iopub.status.busy": "2024-02-25T19:03:58.861914Z",
     "iopub.status.idle": "2024-02-25T19:03:58.870689Z",
     "shell.execute_reply": "2024-02-25T19:03:58.868704Z",
     "shell.execute_reply.started": "2024-02-25T19:03:58.862351Z"
    },
    "papermill": {
     "duration": 0.00902,
     "end_time": "2024-02-25T19:57:22.793983",
     "exception": false,
     "start_time": "2024-02-25T19:57:22.784963",
     "status": "completed"
    },
    "tags": []
   },
   "source": [
    "<center>\n",
    "  <h1 style=\"background-color:black; color:yellow; font-size:40px; font-weight:bold; font-family:Times New Roman; border:2px solid black;\"> Sales Prediction Using Regression</h1>\n",
    "</center>"
   ]
  },
  {
   "cell_type": "markdown",
   "id": "b46b6493",
   "metadata": {
    "papermill": {
     "duration": 0.00807,
     "end_time": "2024-02-25T19:57:22.810542",
     "exception": false,
     "start_time": "2024-02-25T19:57:22.802472",
     "status": "completed"
    },
    "tags": []
   },
   "source": [
    "# Importing Libraries and Dataset"
   ]
  },
  {
   "cell_type": "code",
   "execution_count": 1,
   "id": "30c6b5e7",
   "metadata": {
    "execution": {
     "iopub.execute_input": "2024-02-25T19:57:22.829367Z",
     "iopub.status.busy": "2024-02-25T19:57:22.828681Z",
     "iopub.status.idle": "2024-02-25T19:57:24.835186Z",
     "shell.execute_reply": "2024-02-25T19:57:24.834096Z"
    },
    "papermill": {
     "duration": 2.018899,
     "end_time": "2024-02-25T19:57:24.837740",
     "exception": false,
     "start_time": "2024-02-25T19:57:22.818841",
     "status": "completed"
    },
    "tags": []
   },
   "outputs": [],
   "source": [
    "# Supresses Warnings\n",
    "import warnings\n",
    "warnings.filterwarnings('ignore')\n",
    "\n",
    "# Import the numpy and pandas package\n",
    "import numpy as np\n",
    "import pandas as pd\n",
    "\n",
    "# Data Visualisation\n",
    "import matplotlib.pyplot as plt \n",
    "import seaborn as sns"
   ]
  },
  {
   "cell_type": "code",
   "execution_count": 2,
   "id": "ef866330",
   "metadata": {
    "execution": {
     "iopub.execute_input": "2024-02-25T19:57:24.857981Z",
     "iopub.status.busy": "2024-02-25T19:57:24.857482Z",
     "iopub.status.idle": "2024-02-25T19:57:24.888796Z",
     "shell.execute_reply": "2024-02-25T19:57:24.887813Z"
    },
    "papermill": {
     "duration": 0.044772,
     "end_time": "2024-02-25T19:57:24.891250",
     "exception": false,
     "start_time": "2024-02-25T19:57:24.846478",
     "status": "completed"
    },
    "tags": []
   },
   "outputs": [
    {
     "data": {
      "text/html": [
       "<div>\n",
       "<style scoped>\n",
       "    .dataframe tbody tr th:only-of-type {\n",
       "        vertical-align: middle;\n",
       "    }\n",
       "\n",
       "    .dataframe tbody tr th {\n",
       "        vertical-align: top;\n",
       "    }\n",
       "\n",
       "    .dataframe thead th {\n",
       "        text-align: right;\n",
       "    }\n",
       "</style>\n",
       "<table border=\"1\" class=\"dataframe\">\n",
       "  <thead>\n",
       "    <tr style=\"text-align: right;\">\n",
       "      <th></th>\n",
       "      <th>TV</th>\n",
       "      <th>Radio</th>\n",
       "      <th>Newspaper</th>\n",
       "      <th>Sales</th>\n",
       "    </tr>\n",
       "  </thead>\n",
       "  <tbody>\n",
       "    <tr>\n",
       "      <th>0</th>\n",
       "      <td>230.1</td>\n",
       "      <td>37.8</td>\n",
       "      <td>69.2</td>\n",
       "      <td>22.1</td>\n",
       "    </tr>\n",
       "    <tr>\n",
       "      <th>1</th>\n",
       "      <td>44.5</td>\n",
       "      <td>39.3</td>\n",
       "      <td>45.1</td>\n",
       "      <td>10.4</td>\n",
       "    </tr>\n",
       "    <tr>\n",
       "      <th>2</th>\n",
       "      <td>17.2</td>\n",
       "      <td>45.9</td>\n",
       "      <td>69.3</td>\n",
       "      <td>12.0</td>\n",
       "    </tr>\n",
       "    <tr>\n",
       "      <th>3</th>\n",
       "      <td>151.5</td>\n",
       "      <td>41.3</td>\n",
       "      <td>58.5</td>\n",
       "      <td>16.5</td>\n",
       "    </tr>\n",
       "    <tr>\n",
       "      <th>4</th>\n",
       "      <td>180.8</td>\n",
       "      <td>10.8</td>\n",
       "      <td>58.4</td>\n",
       "      <td>17.9</td>\n",
       "    </tr>\n",
       "    <tr>\n",
       "      <th>5</th>\n",
       "      <td>8.7</td>\n",
       "      <td>48.9</td>\n",
       "      <td>75.0</td>\n",
       "      <td>7.2</td>\n",
       "    </tr>\n",
       "    <tr>\n",
       "      <th>6</th>\n",
       "      <td>57.5</td>\n",
       "      <td>32.8</td>\n",
       "      <td>23.5</td>\n",
       "      <td>11.8</td>\n",
       "    </tr>\n",
       "    <tr>\n",
       "      <th>7</th>\n",
       "      <td>120.2</td>\n",
       "      <td>19.6</td>\n",
       "      <td>11.6</td>\n",
       "      <td>13.2</td>\n",
       "    </tr>\n",
       "    <tr>\n",
       "      <th>8</th>\n",
       "      <td>8.6</td>\n",
       "      <td>2.1</td>\n",
       "      <td>1.0</td>\n",
       "      <td>4.8</td>\n",
       "    </tr>\n",
       "    <tr>\n",
       "      <th>9</th>\n",
       "      <td>199.8</td>\n",
       "      <td>2.6</td>\n",
       "      <td>21.2</td>\n",
       "      <td>15.6</td>\n",
       "    </tr>\n",
       "  </tbody>\n",
       "</table>\n",
       "</div>"
      ],
      "text/plain": [
       "      TV  Radio  Newspaper  Sales\n",
       "0  230.1   37.8       69.2   22.1\n",
       "1   44.5   39.3       45.1   10.4\n",
       "2   17.2   45.9       69.3   12.0\n",
       "3  151.5   41.3       58.5   16.5\n",
       "4  180.8   10.8       58.4   17.9\n",
       "5    8.7   48.9       75.0    7.2\n",
       "6   57.5   32.8       23.5   11.8\n",
       "7  120.2   19.6       11.6   13.2\n",
       "8    8.6    2.1        1.0    4.8\n",
       "9  199.8    2.6       21.2   15.6"
      ]
     },
     "execution_count": 2,
     "metadata": {},
     "output_type": "execute_result"
    }
   ],
   "source": [
    "advertising = pd.DataFrame(pd.read_csv(\"/kaggle/input/sales-data/advertising.csv\"))\n",
    "advertising.head(10)"
   ]
  },
  {
   "cell_type": "code",
   "execution_count": 3,
   "id": "6b8b74be",
   "metadata": {
    "execution": {
     "iopub.execute_input": "2024-02-25T19:57:24.910784Z",
     "iopub.status.busy": "2024-02-25T19:57:24.910410Z",
     "iopub.status.idle": "2024-02-25T19:57:24.924451Z",
     "shell.execute_reply": "2024-02-25T19:57:24.923373Z"
    },
    "papermill": {
     "duration": 0.026575,
     "end_time": "2024-02-25T19:57:24.926919",
     "exception": false,
     "start_time": "2024-02-25T19:57:24.900344",
     "status": "completed"
    },
    "tags": []
   },
   "outputs": [
    {
     "data": {
      "text/html": [
       "<div>\n",
       "<style scoped>\n",
       "    .dataframe tbody tr th:only-of-type {\n",
       "        vertical-align: middle;\n",
       "    }\n",
       "\n",
       "    .dataframe tbody tr th {\n",
       "        vertical-align: top;\n",
       "    }\n",
       "\n",
       "    .dataframe thead th {\n",
       "        text-align: right;\n",
       "    }\n",
       "</style>\n",
       "<table border=\"1\" class=\"dataframe\">\n",
       "  <thead>\n",
       "    <tr style=\"text-align: right;\">\n",
       "      <th></th>\n",
       "      <th>TV</th>\n",
       "      <th>Radio</th>\n",
       "      <th>Newspaper</th>\n",
       "      <th>Sales</th>\n",
       "    </tr>\n",
       "  </thead>\n",
       "  <tbody>\n",
       "    <tr>\n",
       "      <th>190</th>\n",
       "      <td>39.5</td>\n",
       "      <td>41.1</td>\n",
       "      <td>5.8</td>\n",
       "      <td>10.8</td>\n",
       "    </tr>\n",
       "    <tr>\n",
       "      <th>191</th>\n",
       "      <td>75.5</td>\n",
       "      <td>10.8</td>\n",
       "      <td>6.0</td>\n",
       "      <td>11.9</td>\n",
       "    </tr>\n",
       "    <tr>\n",
       "      <th>192</th>\n",
       "      <td>17.2</td>\n",
       "      <td>4.1</td>\n",
       "      <td>31.6</td>\n",
       "      <td>5.9</td>\n",
       "    </tr>\n",
       "    <tr>\n",
       "      <th>193</th>\n",
       "      <td>166.8</td>\n",
       "      <td>42.0</td>\n",
       "      <td>3.6</td>\n",
       "      <td>19.6</td>\n",
       "    </tr>\n",
       "    <tr>\n",
       "      <th>194</th>\n",
       "      <td>149.7</td>\n",
       "      <td>35.6</td>\n",
       "      <td>6.0</td>\n",
       "      <td>17.3</td>\n",
       "    </tr>\n",
       "    <tr>\n",
       "      <th>195</th>\n",
       "      <td>38.2</td>\n",
       "      <td>3.7</td>\n",
       "      <td>13.8</td>\n",
       "      <td>7.6</td>\n",
       "    </tr>\n",
       "    <tr>\n",
       "      <th>196</th>\n",
       "      <td>94.2</td>\n",
       "      <td>4.9</td>\n",
       "      <td>8.1</td>\n",
       "      <td>14.0</td>\n",
       "    </tr>\n",
       "    <tr>\n",
       "      <th>197</th>\n",
       "      <td>177.0</td>\n",
       "      <td>9.3</td>\n",
       "      <td>6.4</td>\n",
       "      <td>14.8</td>\n",
       "    </tr>\n",
       "    <tr>\n",
       "      <th>198</th>\n",
       "      <td>283.6</td>\n",
       "      <td>42.0</td>\n",
       "      <td>66.2</td>\n",
       "      <td>25.5</td>\n",
       "    </tr>\n",
       "    <tr>\n",
       "      <th>199</th>\n",
       "      <td>232.1</td>\n",
       "      <td>8.6</td>\n",
       "      <td>8.7</td>\n",
       "      <td>18.4</td>\n",
       "    </tr>\n",
       "  </tbody>\n",
       "</table>\n",
       "</div>"
      ],
      "text/plain": [
       "        TV  Radio  Newspaper  Sales\n",
       "190   39.5   41.1        5.8   10.8\n",
       "191   75.5   10.8        6.0   11.9\n",
       "192   17.2    4.1       31.6    5.9\n",
       "193  166.8   42.0        3.6   19.6\n",
       "194  149.7   35.6        6.0   17.3\n",
       "195   38.2    3.7       13.8    7.6\n",
       "196   94.2    4.9        8.1   14.0\n",
       "197  177.0    9.3        6.4   14.8\n",
       "198  283.6   42.0       66.2   25.5\n",
       "199  232.1    8.6        8.7   18.4"
      ]
     },
     "execution_count": 3,
     "metadata": {},
     "output_type": "execute_result"
    }
   ],
   "source": [
    "advertising.tail(10)"
   ]
  },
  {
   "cell_type": "markdown",
   "id": "14eca30a",
   "metadata": {
    "papermill": {
     "duration": 0.008661,
     "end_time": "2024-02-25T19:57:24.944533",
     "exception": false,
     "start_time": "2024-02-25T19:57:24.935872",
     "status": "completed"
    },
    "tags": []
   },
   "source": [
    "# Exploring the dataset"
   ]
  },
  {
   "cell_type": "code",
   "execution_count": 4,
   "id": "143d64ff",
   "metadata": {
    "execution": {
     "iopub.execute_input": "2024-02-25T19:57:24.964569Z",
     "iopub.status.busy": "2024-02-25T19:57:24.963570Z",
     "iopub.status.idle": "2024-02-25T19:57:24.991847Z",
     "shell.execute_reply": "2024-02-25T19:57:24.990785Z"
    },
    "papermill": {
     "duration": 0.040634,
     "end_time": "2024-02-25T19:57:24.994054",
     "exception": false,
     "start_time": "2024-02-25T19:57:24.953420",
     "status": "completed"
    },
    "tags": []
   },
   "outputs": [
    {
     "name": "stdout",
     "output_type": "stream",
     "text": [
      "<class 'pandas.core.frame.DataFrame'>\n",
      "RangeIndex: 200 entries, 0 to 199\n",
      "Data columns (total 4 columns):\n",
      " #   Column     Non-Null Count  Dtype  \n",
      "---  ------     --------------  -----  \n",
      " 0   TV         200 non-null    float64\n",
      " 1   Radio      200 non-null    float64\n",
      " 2   Newspaper  200 non-null    float64\n",
      " 3   Sales      200 non-null    float64\n",
      "dtypes: float64(4)\n",
      "memory usage: 6.4 KB\n"
     ]
    }
   ],
   "source": [
    "advertising.info()"
   ]
  },
  {
   "cell_type": "code",
   "execution_count": 5,
   "id": "f0646d06",
   "metadata": {
    "execution": {
     "iopub.execute_input": "2024-02-25T19:57:25.013915Z",
     "iopub.status.busy": "2024-02-25T19:57:25.013547Z",
     "iopub.status.idle": "2024-02-25T19:57:25.019409Z",
     "shell.execute_reply": "2024-02-25T19:57:25.018407Z"
    },
    "papermill": {
     "duration": 0.018131,
     "end_time": "2024-02-25T19:57:25.021345",
     "exception": false,
     "start_time": "2024-02-25T19:57:25.003214",
     "status": "completed"
    },
    "tags": []
   },
   "outputs": [
    {
     "data": {
      "text/plain": [
       "800"
      ]
     },
     "execution_count": 5,
     "metadata": {},
     "output_type": "execute_result"
    }
   ],
   "source": [
    "advertising.size"
   ]
  },
  {
   "cell_type": "code",
   "execution_count": 6,
   "id": "e3c1ef93",
   "metadata": {
    "execution": {
     "iopub.execute_input": "2024-02-25T19:57:25.041180Z",
     "iopub.status.busy": "2024-02-25T19:57:25.040821Z",
     "iopub.status.idle": "2024-02-25T19:57:25.046807Z",
     "shell.execute_reply": "2024-02-25T19:57:25.045874Z"
    },
    "papermill": {
     "duration": 0.018349,
     "end_time": "2024-02-25T19:57:25.048871",
     "exception": false,
     "start_time": "2024-02-25T19:57:25.030522",
     "status": "completed"
    },
    "tags": []
   },
   "outputs": [
    {
     "data": {
      "text/plain": [
       "(200, 4)"
      ]
     },
     "execution_count": 6,
     "metadata": {},
     "output_type": "execute_result"
    }
   ],
   "source": [
    "advertising.shape"
   ]
  },
  {
   "cell_type": "code",
   "execution_count": 7,
   "id": "1ac6621c",
   "metadata": {
    "execution": {
     "iopub.execute_input": "2024-02-25T19:57:25.068891Z",
     "iopub.status.busy": "2024-02-25T19:57:25.068566Z",
     "iopub.status.idle": "2024-02-25T19:57:25.089557Z",
     "shell.execute_reply": "2024-02-25T19:57:25.088507Z"
    },
    "papermill": {
     "duration": 0.033338,
     "end_time": "2024-02-25T19:57:25.091562",
     "exception": false,
     "start_time": "2024-02-25T19:57:25.058224",
     "status": "completed"
    },
    "tags": []
   },
   "outputs": [
    {
     "data": {
      "text/html": [
       "<div>\n",
       "<style scoped>\n",
       "    .dataframe tbody tr th:only-of-type {\n",
       "        vertical-align: middle;\n",
       "    }\n",
       "\n",
       "    .dataframe tbody tr th {\n",
       "        vertical-align: top;\n",
       "    }\n",
       "\n",
       "    .dataframe thead th {\n",
       "        text-align: right;\n",
       "    }\n",
       "</style>\n",
       "<table border=\"1\" class=\"dataframe\">\n",
       "  <thead>\n",
       "    <tr style=\"text-align: right;\">\n",
       "      <th></th>\n",
       "      <th>TV</th>\n",
       "      <th>Radio</th>\n",
       "      <th>Newspaper</th>\n",
       "      <th>Sales</th>\n",
       "    </tr>\n",
       "  </thead>\n",
       "  <tbody>\n",
       "    <tr>\n",
       "      <th>count</th>\n",
       "      <td>200.000000</td>\n",
       "      <td>200.000000</td>\n",
       "      <td>200.000000</td>\n",
       "      <td>200.000000</td>\n",
       "    </tr>\n",
       "    <tr>\n",
       "      <th>mean</th>\n",
       "      <td>147.042500</td>\n",
       "      <td>23.264000</td>\n",
       "      <td>30.554000</td>\n",
       "      <td>15.130500</td>\n",
       "    </tr>\n",
       "    <tr>\n",
       "      <th>std</th>\n",
       "      <td>85.854236</td>\n",
       "      <td>14.846809</td>\n",
       "      <td>21.778621</td>\n",
       "      <td>5.283892</td>\n",
       "    </tr>\n",
       "    <tr>\n",
       "      <th>min</th>\n",
       "      <td>0.700000</td>\n",
       "      <td>0.000000</td>\n",
       "      <td>0.300000</td>\n",
       "      <td>1.600000</td>\n",
       "    </tr>\n",
       "    <tr>\n",
       "      <th>25%</th>\n",
       "      <td>74.375000</td>\n",
       "      <td>9.975000</td>\n",
       "      <td>12.750000</td>\n",
       "      <td>11.000000</td>\n",
       "    </tr>\n",
       "    <tr>\n",
       "      <th>50%</th>\n",
       "      <td>149.750000</td>\n",
       "      <td>22.900000</td>\n",
       "      <td>25.750000</td>\n",
       "      <td>16.000000</td>\n",
       "    </tr>\n",
       "    <tr>\n",
       "      <th>75%</th>\n",
       "      <td>218.825000</td>\n",
       "      <td>36.525000</td>\n",
       "      <td>45.100000</td>\n",
       "      <td>19.050000</td>\n",
       "    </tr>\n",
       "    <tr>\n",
       "      <th>max</th>\n",
       "      <td>296.400000</td>\n",
       "      <td>49.600000</td>\n",
       "      <td>114.000000</td>\n",
       "      <td>27.000000</td>\n",
       "    </tr>\n",
       "  </tbody>\n",
       "</table>\n",
       "</div>"
      ],
      "text/plain": [
       "               TV       Radio   Newspaper       Sales\n",
       "count  200.000000  200.000000  200.000000  200.000000\n",
       "mean   147.042500   23.264000   30.554000   15.130500\n",
       "std     85.854236   14.846809   21.778621    5.283892\n",
       "min      0.700000    0.000000    0.300000    1.600000\n",
       "25%     74.375000    9.975000   12.750000   11.000000\n",
       "50%    149.750000   22.900000   25.750000   16.000000\n",
       "75%    218.825000   36.525000   45.100000   19.050000\n",
       "max    296.400000   49.600000  114.000000   27.000000"
      ]
     },
     "execution_count": 7,
     "metadata": {},
     "output_type": "execute_result"
    }
   ],
   "source": [
    "advertising.describe()"
   ]
  },
  {
   "cell_type": "code",
   "execution_count": 8,
   "id": "85af5917",
   "metadata": {
    "execution": {
     "iopub.execute_input": "2024-02-25T19:57:25.112583Z",
     "iopub.status.busy": "2024-02-25T19:57:25.111778Z",
     "iopub.status.idle": "2024-02-25T19:57:25.130883Z",
     "shell.execute_reply": "2024-02-25T19:57:25.129967Z"
    },
    "papermill": {
     "duration": 0.03185,
     "end_time": "2024-02-25T19:57:25.132856",
     "exception": false,
     "start_time": "2024-02-25T19:57:25.101006",
     "status": "completed"
    },
    "tags": []
   },
   "outputs": [
    {
     "data": {
      "text/html": [
       "<div>\n",
       "<style scoped>\n",
       "    .dataframe tbody tr th:only-of-type {\n",
       "        vertical-align: middle;\n",
       "    }\n",
       "\n",
       "    .dataframe tbody tr th {\n",
       "        vertical-align: top;\n",
       "    }\n",
       "\n",
       "    .dataframe thead th {\n",
       "        text-align: right;\n",
       "    }\n",
       "</style>\n",
       "<table border=\"1\" class=\"dataframe\">\n",
       "  <thead>\n",
       "    <tr style=\"text-align: right;\">\n",
       "      <th></th>\n",
       "      <th>TV</th>\n",
       "      <th>Radio</th>\n",
       "      <th>Newspaper</th>\n",
       "      <th>Sales</th>\n",
       "    </tr>\n",
       "  </thead>\n",
       "  <tbody>\n",
       "    <tr>\n",
       "      <th>count</th>\n",
       "      <td>200.000000</td>\n",
       "      <td>200.000000</td>\n",
       "      <td>200.000000</td>\n",
       "      <td>200.000000</td>\n",
       "    </tr>\n",
       "    <tr>\n",
       "      <th>mean</th>\n",
       "      <td>147.042500</td>\n",
       "      <td>23.264000</td>\n",
       "      <td>30.554000</td>\n",
       "      <td>15.130500</td>\n",
       "    </tr>\n",
       "    <tr>\n",
       "      <th>std</th>\n",
       "      <td>85.854236</td>\n",
       "      <td>14.846809</td>\n",
       "      <td>21.778621</td>\n",
       "      <td>5.283892</td>\n",
       "    </tr>\n",
       "    <tr>\n",
       "      <th>min</th>\n",
       "      <td>0.700000</td>\n",
       "      <td>0.000000</td>\n",
       "      <td>0.300000</td>\n",
       "      <td>1.600000</td>\n",
       "    </tr>\n",
       "    <tr>\n",
       "      <th>25%</th>\n",
       "      <td>74.375000</td>\n",
       "      <td>9.975000</td>\n",
       "      <td>12.750000</td>\n",
       "      <td>11.000000</td>\n",
       "    </tr>\n",
       "    <tr>\n",
       "      <th>50%</th>\n",
       "      <td>149.750000</td>\n",
       "      <td>22.900000</td>\n",
       "      <td>25.750000</td>\n",
       "      <td>16.000000</td>\n",
       "    </tr>\n",
       "    <tr>\n",
       "      <th>75%</th>\n",
       "      <td>218.825000</td>\n",
       "      <td>36.525000</td>\n",
       "      <td>45.100000</td>\n",
       "      <td>19.050000</td>\n",
       "    </tr>\n",
       "    <tr>\n",
       "      <th>max</th>\n",
       "      <td>296.400000</td>\n",
       "      <td>49.600000</td>\n",
       "      <td>114.000000</td>\n",
       "      <td>27.000000</td>\n",
       "    </tr>\n",
       "  </tbody>\n",
       "</table>\n",
       "</div>"
      ],
      "text/plain": [
       "               TV       Radio   Newspaper       Sales\n",
       "count  200.000000  200.000000  200.000000  200.000000\n",
       "mean   147.042500   23.264000   30.554000   15.130500\n",
       "std     85.854236   14.846809   21.778621    5.283892\n",
       "min      0.700000    0.000000    0.300000    1.600000\n",
       "25%     74.375000    9.975000   12.750000   11.000000\n",
       "50%    149.750000   22.900000   25.750000   16.000000\n",
       "75%    218.825000   36.525000   45.100000   19.050000\n",
       "max    296.400000   49.600000  114.000000   27.000000"
      ]
     },
     "execution_count": 8,
     "metadata": {},
     "output_type": "execute_result"
    }
   ],
   "source": [
    "advertising.describe(include = 'all')"
   ]
  },
  {
   "cell_type": "code",
   "execution_count": 9,
   "id": "3bd2ddb7",
   "metadata": {
    "execution": {
     "iopub.execute_input": "2024-02-25T19:57:25.154729Z",
     "iopub.status.busy": "2024-02-25T19:57:25.154117Z",
     "iopub.status.idle": "2024-02-25T19:57:25.161006Z",
     "shell.execute_reply": "2024-02-25T19:57:25.160105Z"
    },
    "papermill": {
     "duration": 0.019834,
     "end_time": "2024-02-25T19:57:25.162983",
     "exception": false,
     "start_time": "2024-02-25T19:57:25.143149",
     "status": "completed"
    },
    "tags": []
   },
   "outputs": [
    {
     "data": {
      "text/plain": [
       "<bound method IndexOpsMixin.nunique of 0      230.1\n",
       "1       44.5\n",
       "2       17.2\n",
       "3      151.5\n",
       "4      180.8\n",
       "       ...  \n",
       "195     38.2\n",
       "196     94.2\n",
       "197    177.0\n",
       "198    283.6\n",
       "199    232.1\n",
       "Name: TV, Length: 200, dtype: float64>"
      ]
     },
     "execution_count": 9,
     "metadata": {},
     "output_type": "execute_result"
    }
   ],
   "source": [
    "advertising.TV.nunique"
   ]
  },
  {
   "cell_type": "markdown",
   "id": "223ff09e",
   "metadata": {
    "papermill": {
     "duration": 0.010154,
     "end_time": "2024-02-25T19:57:25.182716",
     "exception": false,
     "start_time": "2024-02-25T19:57:25.172562",
     "status": "completed"
    },
    "tags": []
   },
   "source": [
    "# Data Cleaning"
   ]
  },
  {
   "cell_type": "code",
   "execution_count": 10,
   "id": "618be2f1",
   "metadata": {
    "execution": {
     "iopub.execute_input": "2024-02-25T19:57:25.203881Z",
     "iopub.status.busy": "2024-02-25T19:57:25.203461Z",
     "iopub.status.idle": "2024-02-25T19:57:25.212165Z",
     "shell.execute_reply": "2024-02-25T19:57:25.211100Z"
    },
    "papermill": {
     "duration": 0.02173,
     "end_time": "2024-02-25T19:57:25.214138",
     "exception": false,
     "start_time": "2024-02-25T19:57:25.192408",
     "status": "completed"
    },
    "tags": []
   },
   "outputs": [
    {
     "data": {
      "text/plain": [
       "TV           0.0\n",
       "Radio        0.0\n",
       "Newspaper    0.0\n",
       "Sales        0.0\n",
       "dtype: float64"
      ]
     },
     "execution_count": 10,
     "metadata": {},
     "output_type": "execute_result"
    }
   ],
   "source": [
    "# calculate the percentage of null values for every column\n",
    "advertising.isnull().sum()*100/advertising.shape[0]"
   ]
  },
  {
   "cell_type": "code",
   "execution_count": 11,
   "id": "50e8c872",
   "metadata": {
    "execution": {
     "iopub.execute_input": "2024-02-25T19:57:25.235611Z",
     "iopub.status.busy": "2024-02-25T19:57:25.235240Z",
     "iopub.status.idle": "2024-02-25T19:57:25.658588Z",
     "shell.execute_reply": "2024-02-25T19:57:25.657472Z"
    },
    "papermill": {
     "duration": 0.436988,
     "end_time": "2024-02-25T19:57:25.660900",
     "exception": false,
     "start_time": "2024-02-25T19:57:25.223912",
     "status": "completed"
    },
    "tags": []
   },
   "outputs": [
    {
     "data": {
      "image/png": "[encoded data removed]",
      "text/plain": [
       "<Figure size 500x500 with 3 Axes>"
      ]
     },
     "metadata": {},
     "output_type": "display_data"
    }
   ],
   "source": [
    "# Outliers Analysis using seaborn as sns\n",
    "fig, axs = plt.subplots(3, figsize = (5,5))\n",
    "plt1 = sns.boxplot(advertising['TV'], ax = axs[0])\n",
    "plt2 = sns.boxplot(advertising['Newspaper'], ax = axs[1])\n",
    "plt3 = sns.boxplot(advertising['Radio'], ax = axs[2])\n",
    "plt.tight_layout()\n",
    "#there are no outliers there as such"
   ]
  },
  {
   "cell_type": "markdown",
   "id": "99c657fa",
   "metadata": {
    "papermill": {
     "duration": 0.009917,
     "end_time": "2024-02-25T19:57:25.681321",
     "exception": false,
     "start_time": "2024-02-25T19:57:25.671404",
     "status": "completed"
    },
    "tags": []
   },
   "source": [
    "# EDA\n",
    "## Univariate Analysis"
   ]
  },
  {
   "cell_type": "code",
   "execution_count": 12,
   "id": "1f27ed4f",
   "metadata": {
    "execution": {
     "iopub.execute_input": "2024-02-25T19:57:25.703472Z",
     "iopub.status.busy": "2024-02-25T19:57:25.703071Z",
     "iopub.status.idle": "2024-02-25T19:57:25.817421Z",
     "shell.execute_reply": "2024-02-25T19:57:25.816452Z"
    },
    "papermill": {
     "duration": 0.128139,
     "end_time": "2024-02-25T19:57:25.819764",
     "exception": false,
     "start_time": "2024-02-25T19:57:25.691625",
     "status": "completed"
    },
    "tags": []
   },
   "outputs": [
    {
     "data": {
      "image/png": "[encoded data removed]",
      "text/plain": [
       "<Figure size 640x480 with 1 Axes>"
      ]
     },
     "metadata": {},
     "output_type": "display_data"
    }
   ],
   "source": [
    "sns.boxplot(advertising['Sales']) #target variable is sales\n",
    "plt.show()"
   ]
  },
  {
   "cell_type": "markdown",
   "id": "a406223f",
   "metadata": {
    "papermill": {
     "duration": 0.010803,
     "end_time": "2024-02-25T19:57:25.841350",
     "exception": false,
     "start_time": "2024-02-25T19:57:25.830547",
     "status": "completed"
    },
    "tags": []
   },
   "source": []
  },
  {
   "cell_type": "code",
   "execution_count": 13,
   "id": "c48a2d15",
   "metadata": {
    "execution": {
     "iopub.execute_input": "2024-02-25T19:57:25.865167Z",
     "iopub.status.busy": "2024-02-25T19:57:25.864761Z",
     "iopub.status.idle": "2024-02-25T19:57:26.494984Z",
     "shell.execute_reply": "2024-02-25T19:57:26.493917Z"
    },
    "papermill": {
     "duration": 0.645227,
     "end_time": "2024-02-25T19:57:26.497516",
     "exception": false,
     "start_time": "2024-02-25T19:57:25.852289",
     "status": "completed"
    },
    "tags": []
   },
   "outputs": [
    {
     "data": {
      "image/png": "[encoded data removed]",
      "text/plain": [
       "<Figure size 1050x500 with 3 Axes>"
      ]
     },
     "metadata": {},
     "output_type": "display_data"
    }
   ],
   "source": [
    "# see how Sales are related with other variables using scatter plot.\n",
    "sns.pairplot(advertising, x_vars=['TV', 'Newspaper', 'Radio'], y_vars='Sales', height=5, aspect=0.7, kind='scatter')\n",
    "plt.show()"
   ]
  },
  {
   "cell_type": "code",
   "execution_count": 14,
   "id": "9d35e6b9",
   "metadata": {
    "execution": {
     "iopub.execute_input": "2024-02-25T19:57:26.521785Z",
     "iopub.status.busy": "2024-02-25T19:57:26.521372Z",
     "iopub.status.idle": "2024-02-25T19:57:26.754339Z",
     "shell.execute_reply": "2024-02-25T19:57:26.753327Z"
    },
    "papermill": {
     "duration": 0.247863,
     "end_time": "2024-02-25T19:57:26.756687",
     "exception": false,
     "start_time": "2024-02-25T19:57:26.508824",
     "status": "completed"
    },
    "tags": []
   },
   "outputs": [
    {
     "data": {
      "image/png": "[encoded data removed]",
      "text/plain": [
       "<Figure size 640x480 with 2 Axes>"
      ]
     },
     "metadata": {},
     "output_type": "display_data"
    }
   ],
   "source": [
    "# correlation between different variables. 1st argument creates correlation matrix, second argument gives color, third tells if values of correlation will be shown on the heatmap\n",
    "sns.heatmap(advertising.corr(), cmap=\"viridis\", annot = True)\n",
    "plt.show()"
   ]
  },
  {
   "cell_type": "markdown",
   "id": "352aa4c3",
   "metadata": {
    "papermill": {
     "duration": 0.011263,
     "end_time": "2024-02-25T19:57:26.779985",
     "exception": false,
     "start_time": "2024-02-25T19:57:26.768722",
     "status": "completed"
    },
    "tags": []
   },
   "source": [
    "As is visible from the pairplot and the heatmap, the variable TV seems to be most correlated with Sales. So let's perform simple linear regression using TV as our feature variable."
   ]
  },
  {
   "cell_type": "markdown",
   "id": "1931d935",
   "metadata": {
    "papermill": {
     "duration": 0.011295,
     "end_time": "2024-02-25T19:57:26.802837",
     "exception": false,
     "start_time": "2024-02-25T19:57:26.791542",
     "status": "completed"
    },
    "tags": []
   },
   "source": [
    "# Building Model for Simple Linear Regression"
   ]
  },
  {
   "cell_type": "code",
   "execution_count": 15,
   "id": "5eb2a2bb",
   "metadata": {
    "execution": {
     "iopub.execute_input": "2024-02-25T19:57:26.827900Z",
     "iopub.status.busy": "2024-02-25T19:57:26.827550Z",
     "iopub.status.idle": "2024-02-25T19:57:26.832265Z",
     "shell.execute_reply": "2024-02-25T19:57:26.831019Z"
    },
    "papermill": {
     "duration": 0.019904,
     "end_time": "2024-02-25T19:57:26.834430",
     "exception": false,
     "start_time": "2024-02-25T19:57:26.814526",
     "status": "completed"
    },
    "tags": []
   },
   "outputs": [],
   "source": [
    "X = advertising['TV']\n",
    "y = advertising['Sales']"
   ]
  },
  {
   "cell_type": "code",
   "execution_count": 16,
   "id": "b9a6575a",
   "metadata": {
    "execution": {
     "iopub.execute_input": "2024-02-25T19:57:26.859663Z",
     "iopub.status.busy": "2024-02-25T19:57:26.859318Z",
     "iopub.status.idle": "2024-02-25T19:57:27.077252Z",
     "shell.execute_reply": "2024-02-25T19:57:27.076196Z"
    },
    "papermill": {
     "duration": 0.233436,
     "end_time": "2024-02-25T19:57:27.079675",
     "exception": false,
     "start_time": "2024-02-25T19:57:26.846239",
     "status": "completed"
    },
    "tags": []
   },
   "outputs": [],
   "source": [
    "from sklearn.model_selection import train_test_split\n",
    "X_train, X_test, y_train, y_test = train_test_split(X, y, train_size = 0.7, test_size = 0.3, random_state = 100)"
   ]
  },
  {
   "cell_type": "code",
   "execution_count": 17,
   "id": "b6c5db51",
   "metadata": {
    "execution": {
     "iopub.execute_input": "2024-02-25T19:57:27.105057Z",
     "iopub.status.busy": "2024-02-25T19:57:27.104145Z",
     "iopub.status.idle": "2024-02-25T19:57:27.112440Z",
     "shell.execute_reply": "2024-02-25T19:57:27.111461Z"
    },
    "papermill": {
     "duration": 0.022946,
     "end_time": "2024-02-25T19:57:27.114382",
     "exception": false,
     "start_time": "2024-02-25T19:57:27.091436",
     "status": "completed"
    },
    "tags": []
   },
   "outputs": [
    {
     "data": {
      "text/plain": [
       "74     17.0\n",
       "3      16.5\n",
       "185    22.6\n",
       "26     15.0\n",
       "90     14.0\n",
       "127    11.9\n",
       "81     17.3\n",
       "88     12.9\n",
       "119     6.6\n",
       "110    18.4\n",
       "Name: Sales, dtype: float64"
      ]
     },
     "execution_count": 17,
     "metadata": {},
     "output_type": "execute_result"
    }
   ],
   "source": [
    "X_train.head(10)\n",
    "y_train.head(10)"
   ]
  },
  {
   "cell_type": "code",
   "execution_count": 18,
   "id": "9edd0917",
   "metadata": {
    "execution": {
     "iopub.execute_input": "2024-02-25T19:57:27.139889Z",
     "iopub.status.busy": "2024-02-25T19:57:27.139075Z",
     "iopub.status.idle": "2024-02-25T19:57:28.582064Z",
     "shell.execute_reply": "2024-02-25T19:57:28.581156Z"
    },
    "papermill": {
     "duration": 1.458078,
     "end_time": "2024-02-25T19:57:28.584294",
     "exception": false,
     "start_time": "2024-02-25T19:57:27.126216",
     "status": "completed"
    },
    "tags": []
   },
   "outputs": [],
   "source": [
    "import statsmodels.api as sm"
   ]
  },
  {
   "cell_type": "code",
   "execution_count": 19,
   "id": "24fda87a",
   "metadata": {
    "execution": {
     "iopub.execute_input": "2024-02-25T19:57:28.613379Z",
     "iopub.status.busy": "2024-02-25T19:57:28.612769Z",
     "iopub.status.idle": "2024-02-25T19:57:28.621988Z",
     "shell.execute_reply": "2024-02-25T19:57:28.621080Z"
    },
    "papermill": {
     "duration": 0.027943,
     "end_time": "2024-02-25T19:57:28.624056",
     "exception": false,
     "start_time": "2024-02-25T19:57:28.596113",
     "status": "completed"
    },
    "tags": []
   },
   "outputs": [],
   "source": [
    "# Add a constant to get an intercept\n",
    "X_train_sm = sm.add_constant(X_train)\n",
    "\n",
    "# Fit the resgression line using 'OLS'\n",
    "lr = sm.OLS(y_train, X_train_sm).fit()"
   ]
  },
  {
   "cell_type": "code",
   "execution_count": 20,
   "id": "2fc5358d",
   "metadata": {
    "execution": {
     "iopub.execute_input": "2024-02-25T19:57:28.649569Z",
     "iopub.status.busy": "2024-02-25T19:57:28.648909Z",
     "iopub.status.idle": "2024-02-25T19:57:28.656649Z",
     "shell.execute_reply": "2024-02-25T19:57:28.655640Z"
    },
    "papermill": {
     "duration": 0.022542,
     "end_time": "2024-02-25T19:57:28.658584",
     "exception": false,
     "start_time": "2024-02-25T19:57:28.636042",
     "status": "completed"
    },
    "tags": []
   },
   "outputs": [
    {
     "data": {
      "text/plain": [
       "const    6.948683\n",
       "TV       0.054546\n",
       "dtype: float64"
      ]
     },
     "execution_count": 20,
     "metadata": {},
     "output_type": "execute_result"
    }
   ],
   "source": [
    "# Print the parameters, i.e. the intercept and the slope of the regression line fitted\n",
    "lr.params"
   ]
  },
  {
   "cell_type": "markdown",
   "id": "5a5e6bf1",
   "metadata": {
    "papermill": {
     "duration": 0.064735,
     "end_time": "2024-02-25T19:57:28.735291",
     "exception": false,
     "start_time": "2024-02-25T19:57:28.670556",
     "status": "completed"
    },
    "tags": []
   },
   "source": []
  },
  {
   "cell_type": "code",
   "execution_count": 21,
   "id": "c199c311",
   "metadata": {
    "execution": {
     "iopub.execute_input": "2024-02-25T19:57:28.762286Z",
     "iopub.status.busy": "2024-02-25T19:57:28.761315Z",
     "iopub.status.idle": "2024-02-25T19:57:28.778499Z",
     "shell.execute_reply": "2024-02-25T19:57:28.777552Z"
    },
    "papermill": {
     "duration": 0.032899,
     "end_time": "2024-02-25T19:57:28.780583",
     "exception": false,
     "start_time": "2024-02-25T19:57:28.747684",
     "status": "completed"
    },
    "tags": []
   },
   "outputs": [
    {
     "name": "stdout",
     "output_type": "stream",
     "text": [
      "                            OLS Regression Results                            \n",
      "==============================================================================\n",
      "Dep. Variable:                  Sales   R-squared:                       0.816\n",
      "Model:                            OLS   Adj. R-squared:                  0.814\n",
      "Method:                 Least Squares   F-statistic:                     611.2\n",
      "Date:                Sun, 25 Feb 2024   Prob (F-statistic):           1.52e-52\n",
      "Time:                        19:57:28   Log-Likelihood:                -321.12\n",
      "No. Observations:                 140   AIC:                             646.2\n",
      "Df Residuals:                     138   BIC:                             652.1\n",
      "Df Model:                           1                                         \n",
      "Covariance Type:            nonrobust                                         \n",
      "==============================================================================\n",
      "                 coef    std err          t      P>|t|      [0.025      0.975]\n",
      "------------------------------------------------------------------------------\n",
      "const          6.9487      0.385     18.068      0.000       6.188       7.709\n",
      "TV             0.0545      0.002     24.722      0.000       0.050       0.059\n",
      "==============================================================================\n",
      "Omnibus:                        0.027   Durbin-Watson:                   2.196\n",
      "Prob(Omnibus):                  0.987   Jarque-Bera (JB):                0.150\n",
      "Skew:                          -0.006   Prob(JB):                        0.928\n",
      "Kurtosis:                       2.840   Cond. No.                         328.\n",
      "==============================================================================\n",
      "\n",
      "Notes:\n",
      "[1] Standard Errors assume that the covariance matrix of the errors is correctly specified.\n"
     ]
    }
   ],
   "source": [
    "print(lr.summary())"
   ]
  },
  {
   "cell_type": "code",
   "execution_count": 22,
   "id": "30cf7c83",
   "metadata": {
    "execution": {
     "iopub.execute_input": "2024-02-25T19:57:28.806363Z",
     "iopub.status.busy": "2024-02-25T19:57:28.805979Z",
     "iopub.status.idle": "2024-02-25T19:57:29.117139Z",
     "shell.execute_reply": "2024-02-25T19:57:29.115008Z"
    },
    "papermill": {
     "duration": 0.326861,
     "end_time": "2024-02-25T19:57:29.119552",
     "exception": false,
     "start_time": "2024-02-25T19:57:28.792691",
     "status": "completed"
    },
    "tags": []
   },
   "outputs": [
    {
     "data": {
      "image/png": "[encoded data removed]",
      "text/plain": [
       "<Figure size 640x480 with 1 Axes>"
      ]
     },
     "metadata": {},
     "output_type": "display_data"
    }
   ],
   "source": [
    "plt.scatter(X_train, y_train)\n",
    "plt.plot(X_train, 6.948 + 0.054*X_train, 'r')\n",
    "plt.show()"
   ]
  },
  {
   "cell_type": "markdown",
   "id": "65e741d7",
   "metadata": {
    "papermill": {
     "duration": 0.012516,
     "end_time": "2024-02-25T19:57:29.144800",
     "exception": false,
     "start_time": "2024-02-25T19:57:29.132284",
     "status": "completed"
    },
    "tags": []
   },
   "source": [
    "# Model Evaluation"
   ]
  },
  {
   "cell_type": "code",
   "execution_count": 23,
   "id": "0484bacb",
   "metadata": {
    "execution": {
     "iopub.execute_input": "2024-02-25T19:57:29.171577Z",
     "iopub.status.busy": "2024-02-25T19:57:29.170910Z",
     "iopub.status.idle": "2024-02-25T19:57:29.176764Z",
     "shell.execute_reply": "2024-02-25T19:57:29.175581Z"
    },
    "papermill": {
     "duration": 0.021657,
     "end_time": "2024-02-25T19:57:29.178955",
     "exception": false,
     "start_time": "2024-02-25T19:57:29.157298",
     "status": "completed"
    },
    "tags": []
   },
   "outputs": [],
   "source": [
    "y_train_pred = lr.predict(X_train_sm)\n",
    "res = (y_train - y_train_pred)"
   ]
  },
  {
   "cell_type": "code",
   "execution_count": 24,
   "id": "a27e0074",
   "metadata": {
    "execution": {
     "iopub.execute_input": "2024-02-25T19:57:29.208324Z",
     "iopub.status.busy": "2024-02-25T19:57:29.207912Z",
     "iopub.status.idle": "2024-02-25T19:57:29.489918Z",
     "shell.execute_reply": "2024-02-25T19:57:29.488872Z"
    },
    "papermill": {
     "duration": 0.299681,
     "end_time": "2024-02-25T19:57:29.492185",
     "exception": false,
     "start_time": "2024-02-25T19:57:29.192504",
     "status": "completed"
    },
    "tags": []
   },
   "outputs": [
    {
     "data": {
      "image/png": "[encoded data removed]",
      "text/plain": [
       "<Figure size 640x480 with 1 Axes>"
      ]
     },
     "metadata": {},
     "output_type": "display_data"
    }
   ],
   "source": [
    "fig = plt.figure()\n",
    "sns.distplot(res, bins = 15)\n",
    "fig.suptitle('Error Terms', fontsize = 15)                  # Plot heading \n",
    "plt.xlabel('y_train - y_train_pred', fontsize = 15)         # X-label\n",
    "plt.show()"
   ]
  },
  {
   "cell_type": "code",
   "execution_count": 25,
   "id": "5f5a3771",
   "metadata": {
    "execution": {
     "iopub.execute_input": "2024-02-25T19:57:29.520628Z",
     "iopub.status.busy": "2024-02-25T19:57:29.519860Z",
     "iopub.status.idle": "2024-02-25T19:57:29.685743Z",
     "shell.execute_reply": "2024-02-25T19:57:29.684708Z"
    },
    "papermill": {
     "duration": 0.182455,
     "end_time": "2024-02-25T19:57:29.687918",
     "exception": false,
     "start_time": "2024-02-25T19:57:29.505463",
     "status": "completed"
    },
    "tags": []
   },
   "outputs": [
    {
     "data": {
      "image/png": "[encoded data removed]",
      "text/plain": [
       "<Figure size 640x480 with 1 Axes>"
      ]
     },
     "metadata": {},
     "output_type": "display_data"
    }
   ],
   "source": [
    "plt.scatter(X_train,res)\n",
    "plt.show()"
   ]
  },
  {
   "cell_type": "markdown",
   "id": "bd4fa573",
   "metadata": {
    "papermill": {
     "duration": 0.012973,
     "end_time": "2024-02-25T19:57:29.714236",
     "exception": false,
     "start_time": "2024-02-25T19:57:29.701263",
     "status": "completed"
    },
    "tags": []
   },
   "source": [
    "# Prediction"
   ]
  },
  {
   "cell_type": "code",
   "execution_count": 26,
   "id": "a42f94c4",
   "metadata": {
    "execution": {
     "iopub.execute_input": "2024-02-25T19:57:29.742675Z",
     "iopub.status.busy": "2024-02-25T19:57:29.741603Z",
     "iopub.status.idle": "2024-02-25T19:57:29.748162Z",
     "shell.execute_reply": "2024-02-25T19:57:29.747452Z"
    },
    "papermill": {
     "duration": 0.022631,
     "end_time": "2024-02-25T19:57:29.749917",
     "exception": false,
     "start_time": "2024-02-25T19:57:29.727286",
     "status": "completed"
    },
    "tags": []
   },
   "outputs": [],
   "source": [
    "# Add a constant to X_test\n",
    "X_test_sm = sm.add_constant(X_test)\n",
    "\n",
    "# Predict the y values corresponding to X_test_sm\n",
    "y_pred = lr.predict(X_test_sm)"
   ]
  },
  {
   "cell_type": "code",
   "execution_count": 27,
   "id": "68069850",
   "metadata": {
    "execution": {
     "iopub.execute_input": "2024-02-25T19:57:29.778103Z",
     "iopub.status.busy": "2024-02-25T19:57:29.777157Z",
     "iopub.status.idle": "2024-02-25T19:57:29.784676Z",
     "shell.execute_reply": "2024-02-25T19:57:29.783653Z"
    },
    "papermill": {
     "duration": 0.023668,
     "end_time": "2024-02-25T19:57:29.786715",
     "exception": false,
     "start_time": "2024-02-25T19:57:29.763047",
     "status": "completed"
    },
    "tags": []
   },
   "outputs": [
    {
     "data": {
      "text/plain": [
       "126     7.374140\n",
       "104    19.941482\n",
       "99     14.323269\n",
       "92     18.823294\n",
       "111    20.132392\n",
       "dtype: float64"
      ]
     },
     "execution_count": 27,
     "metadata": {},
     "output_type": "execute_result"
    }
   ],
   "source": [
    "y_pred.head()"
   ]
  },
  {
   "cell_type": "code",
   "execution_count": 28,
   "id": "952caf84",
   "metadata": {
    "execution": {
     "iopub.execute_input": "2024-02-25T19:57:29.815105Z",
     "iopub.status.busy": "2024-02-25T19:57:29.814419Z",
     "iopub.status.idle": "2024-02-25T19:57:29.819109Z",
     "shell.execute_reply": "2024-02-25T19:57:29.818428Z"
    },
    "papermill": {
     "duration": 0.021096,
     "end_time": "2024-02-25T19:57:29.821037",
     "exception": false,
     "start_time": "2024-02-25T19:57:29.799941",
     "status": "completed"
    },
    "tags": []
   },
   "outputs": [],
   "source": [
    "from sklearn.metrics import mean_squared_error\n",
    "from sklearn.metrics import r2_score"
   ]
  },
  {
   "cell_type": "code",
   "execution_count": 29,
   "id": "0a14c074",
   "metadata": {
    "execution": {
     "iopub.execute_input": "2024-02-25T19:57:29.849520Z",
     "iopub.status.busy": "2024-02-25T19:57:29.849149Z",
     "iopub.status.idle": "2024-02-25T19:57:29.856239Z",
     "shell.execute_reply": "2024-02-25T19:57:29.855179Z"
    },
    "papermill": {
     "duration": 0.023613,
     "end_time": "2024-02-25T19:57:29.858230",
     "exception": false,
     "start_time": "2024-02-25T19:57:29.834617",
     "status": "completed"
    },
    "tags": []
   },
   "outputs": [
    {
     "data": {
      "text/plain": [
       "2.019296008966232"
      ]
     },
     "execution_count": 29,
     "metadata": {},
     "output_type": "execute_result"
    }
   ],
   "source": [
    "#Returns the mean squared error; we'll take a square root\n",
    "np.sqrt(mean_squared_error(y_test, y_pred))"
   ]
  },
  {
   "cell_type": "code",
   "execution_count": 30,
   "id": "a20fb2ac",
   "metadata": {
    "execution": {
     "iopub.execute_input": "2024-02-25T19:57:29.889362Z",
     "iopub.status.busy": "2024-02-25T19:57:29.888009Z",
     "iopub.status.idle": "2024-02-25T19:57:29.895121Z",
     "shell.execute_reply": "2024-02-25T19:57:29.894351Z"
    },
    "papermill": {
     "duration": 0.025077,
     "end_time": "2024-02-25T19:57:29.896888",
     "exception": false,
     "start_time": "2024-02-25T19:57:29.871811",
     "status": "completed"
    },
    "tags": []
   },
   "outputs": [
    {
     "data": {
      "text/plain": [
       "0.792103160124566"
      ]
     },
     "execution_count": 30,
     "metadata": {},
     "output_type": "execute_result"
    }
   ],
   "source": [
    "r_squared = r2_score(y_test, y_pred)\n",
    "r_squared # r_square value"
   ]
  },
  {
   "cell_type": "code",
   "execution_count": 31,
   "id": "52614016",
   "metadata": {
    "execution": {
     "iopub.execute_input": "2024-02-25T19:57:29.926029Z",
     "iopub.status.busy": "2024-02-25T19:57:29.925173Z",
     "iopub.status.idle": "2024-02-25T19:57:30.100809Z",
     "shell.execute_reply": "2024-02-25T19:57:30.099723Z"
    },
    "papermill": {
     "duration": 0.192738,
     "end_time": "2024-02-25T19:57:30.103221",
     "exception": false,
     "start_time": "2024-02-25T19:57:29.910483",
     "status": "completed"
    },
    "tags": []
   },
   "outputs": [
    {
     "data": {
      "image/png": "[encoded data removed]",
      "text/plain": [
       "<Figure size 640x480 with 1 Axes>"
      ]
     },
     "metadata": {},
     "output_type": "display_data"
    }
   ],
   "source": [
    "plt.scatter(X_test, y_test)\n",
    "plt.plot(X_test, 6.948 + 0.054 * X_test, 'r')\n",
    "plt.show()"
   ]
  },
  {
   "cell_type": "markdown",
   "id": "e75da824",
   "metadata": {
    "papermill": {
     "duration": 0.013978,
     "end_time": "2024-02-25T19:57:30.131302",
     "exception": false,
     "start_time": "2024-02-25T19:57:30.117324",
     "status": "completed"
    },
    "tags": []
   },
   "source": []
  }
 ],
 "metadata": {
  "kaggle": {
   "accelerator": "none",
   "dataSources": [
    {
     "datasetId": 4494539,
     "sourceId": 7699868,
     "sourceType": "datasetVersion"
    }
   ],
   "dockerImageVersionId": 30646,
   "isGpuEnabled": false,
   "isInternetEnabled": false,
   "language": "python",
   "sourceType": "notebook"
  },
  "kernelspec": {
   "display_name": "Python 3",
   "language": "python",
   "name": "python3"
  },
  "language_info": {
   "codemirror_mode": {
    "name": "ipython",
    "version": 3
   },
   "file_extension": ".py",
   "mimetype": "text/x-python",
   "name": "python",
   "nbconvert_exporter": "python",
   "pygments_lexer": "ipython3",
   "version": "3.10.13"
  },
  "papermill": {
   "default_parameters": {},
   "duration": 10.596791,
   "end_time": "2024-02-25T19:57:30.767228",
   "environment_variables": {},
   "exception": null,
   "input_path": "__notebook__.ipynb",
   "output_path": "__notebook__.ipynb",
   "parameters": {},
   "start_time": "2024-02-25T19:57:20.170437",
   "version": "2.5.0"
  }
 },
 "nbformat": 4,
 "nbformat_minor": 5
}
