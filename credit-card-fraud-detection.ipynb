{
 "cells": [
  {
   "cell_type": "markdown",
   "id": "ca0c0607",
   "metadata": {
    "_cell_guid": "b1076dfc-b9ad-4769-8c92-a6c4dae69d19",
    "_uuid": "8f2839f25d086af736a60e9eeb907d3b93b6e0e5",
    "papermill": {
     "duration": 0.01106,
     "end_time": "2024-02-26T18:01:17.496922",
     "exception": false,
     "start_time": "2024-02-26T18:01:17.485862",
     "status": "completed"
    },
    "tags": []
   },
   "source": [
    "# Credit Card Fraud Detection"
   ]
  },
  {
   "cell_type": "code",
   "execution_count": 1,
   "id": "79fb8020",
   "metadata": {
    "execution": {
     "iopub.execute_input": "2024-02-26T18:01:17.518911Z",
     "iopub.status.busy": "2024-02-26T18:01:17.518552Z",
     "iopub.status.idle": "2024-02-26T18:01:19.964439Z",
     "shell.execute_reply": "2024-02-26T18:01:19.963127Z"
    },
    "papermill": {
     "duration": 2.460679,
     "end_time": "2024-02-26T18:01:19.967888",
     "exception": false,
     "start_time": "2024-02-26T18:01:17.507209",
     "status": "completed"
    },
    "tags": []
   },
   "outputs": [],
   "source": [
    "import numpy as np\n",
    "import pandas as pd\n",
    "import seaborn as sns\n",
    "import matplotlib.pyplot as plt\n",
    "plt.style.use(\"ggplot\")"
   ]
  },
  {
   "cell_type": "markdown",
   "id": "f7af04b0",
   "metadata": {
    "papermill": {
     "duration": 0.009406,
     "end_time": "2024-02-26T18:01:19.987171",
     "exception": false,
     "start_time": "2024-02-26T18:01:19.977765",
     "status": "completed"
    },
    "tags": []
   },
   "source": [
    "# Importing dataset"
   ]
  },
  {
   "cell_type": "code",
   "execution_count": 2,
   "id": "34b600ca",
   "metadata": {
    "execution": {
     "iopub.execute_input": "2024-02-26T18:01:20.011750Z",
     "iopub.status.busy": "2024-02-26T18:01:20.010252Z",
     "iopub.status.idle": "2024-02-26T18:01:24.992429Z",
     "shell.execute_reply": "2024-02-26T18:01:24.991016Z"
    },
    "papermill": {
     "duration": 4.999377,
     "end_time": "2024-02-26T18:01:24.996210",
     "exception": false,
     "start_time": "2024-02-26T18:01:19.996833",
     "status": "completed"
    },
    "tags": []
   },
   "outputs": [],
   "source": [
    "df=pd.read_csv(\"/kaggle/input/creditcardfraud/creditcard.csv\")"
   ]
  },
  {
   "cell_type": "markdown",
   "id": "2cb385c6",
   "metadata": {
    "papermill": {
     "duration": 0.009205,
     "end_time": "2024-02-26T18:01:25.015403",
     "exception": false,
     "start_time": "2024-02-26T18:01:25.006198",
     "status": "completed"
    },
    "tags": []
   },
   "source": [
    "# Exploring dataset"
   ]
  },
  {
   "cell_type": "code",
   "execution_count": 3,
   "id": "f8b284a2",
   "metadata": {
    "execution": {
     "iopub.execute_input": "2024-02-26T18:01:25.036210Z",
     "iopub.status.busy": "2024-02-26T18:01:25.035719Z",
     "iopub.status.idle": "2024-02-26T18:01:25.082703Z",
     "shell.execute_reply": "2024-02-26T18:01:25.081343Z"
    },
    "papermill": {
     "duration": 0.06106,
     "end_time": "2024-02-26T18:01:25.085799",
     "exception": false,
     "start_time": "2024-02-26T18:01:25.024739",
     "status": "completed"
    },
    "tags": []
   },
   "outputs": [
    {
     "data": {
      "text/html": [
       "<div>\n",
       "<style scoped>\n",
       "    .dataframe tbody tr th:only-of-type {\n",
       "        vertical-align: middle;\n",
       "    }\n",
       "\n",
       "    .dataframe tbody tr th {\n",
       "        vertical-align: top;\n",
       "    }\n",
       "\n",
       "    .dataframe thead th {\n",
       "        text-align: right;\n",
       "    }\n",
       "</style>\n",
       "<table border=\"1\" class=\"dataframe\">\n",
       "  <thead>\n",
       "    <tr style=\"text-align: right;\">\n",
       "      <th></th>\n",
       "      <th>Time</th>\n",
       "      <th>V1</th>\n",
       "      <th>V2</th>\n",
       "      <th>V3</th>\n",
       "      <th>V4</th>\n",
       "      <th>V5</th>\n",
       "      <th>V6</th>\n",
       "      <th>V7</th>\n",
       "      <th>V8</th>\n",
       "      <th>V9</th>\n",
       "      <th>...</th>\n",
       "      <th>V21</th>\n",
       "      <th>V22</th>\n",
       "      <th>V23</th>\n",
       "      <th>V24</th>\n",
       "      <th>V25</th>\n",
       "      <th>V26</th>\n",
       "      <th>V27</th>\n",
       "      <th>V28</th>\n",
       "      <th>Amount</th>\n",
       "      <th>Class</th>\n",
       "    </tr>\n",
       "  </thead>\n",
       "  <tbody>\n",
       "    <tr>\n",
       "      <th>0</th>\n",
       "      <td>0.0</td>\n",
       "      <td>-1.359807</td>\n",
       "      <td>-0.072781</td>\n",
       "      <td>2.536347</td>\n",
       "      <td>1.378155</td>\n",
       "      <td>-0.338321</td>\n",
       "      <td>0.462388</td>\n",
       "      <td>0.239599</td>\n",
       "      <td>0.098698</td>\n",
       "      <td>0.363787</td>\n",
       "      <td>...</td>\n",
       "      <td>-0.018307</td>\n",
       "      <td>0.277838</td>\n",
       "      <td>-0.110474</td>\n",
       "      <td>0.066928</td>\n",
       "      <td>0.128539</td>\n",
       "      <td>-0.189115</td>\n",
       "      <td>0.133558</td>\n",
       "      <td>-0.021053</td>\n",
       "      <td>149.62</td>\n",
       "      <td>0</td>\n",
       "    </tr>\n",
       "    <tr>\n",
       "      <th>1</th>\n",
       "      <td>0.0</td>\n",
       "      <td>1.191857</td>\n",
       "      <td>0.266151</td>\n",
       "      <td>0.166480</td>\n",
       "      <td>0.448154</td>\n",
       "      <td>0.060018</td>\n",
       "      <td>-0.082361</td>\n",
       "      <td>-0.078803</td>\n",
       "      <td>0.085102</td>\n",
       "      <td>-0.255425</td>\n",
       "      <td>...</td>\n",
       "      <td>-0.225775</td>\n",
       "      <td>-0.638672</td>\n",
       "      <td>0.101288</td>\n",
       "      <td>-0.339846</td>\n",
       "      <td>0.167170</td>\n",
       "      <td>0.125895</td>\n",
       "      <td>-0.008983</td>\n",
       "      <td>0.014724</td>\n",
       "      <td>2.69</td>\n",
       "      <td>0</td>\n",
       "    </tr>\n",
       "    <tr>\n",
       "      <th>2</th>\n",
       "      <td>1.0</td>\n",
       "      <td>-1.358354</td>\n",
       "      <td>-1.340163</td>\n",
       "      <td>1.773209</td>\n",
       "      <td>0.379780</td>\n",
       "      <td>-0.503198</td>\n",
       "      <td>1.800499</td>\n",
       "      <td>0.791461</td>\n",
       "      <td>0.247676</td>\n",
       "      <td>-1.514654</td>\n",
       "      <td>...</td>\n",
       "      <td>0.247998</td>\n",
       "      <td>0.771679</td>\n",
       "      <td>0.909412</td>\n",
       "      <td>-0.689281</td>\n",
       "      <td>-0.327642</td>\n",
       "      <td>-0.139097</td>\n",
       "      <td>-0.055353</td>\n",
       "      <td>-0.059752</td>\n",
       "      <td>378.66</td>\n",
       "      <td>0</td>\n",
       "    </tr>\n",
       "    <tr>\n",
       "      <th>3</th>\n",
       "      <td>1.0</td>\n",
       "      <td>-0.966272</td>\n",
       "      <td>-0.185226</td>\n",
       "      <td>1.792993</td>\n",
       "      <td>-0.863291</td>\n",
       "      <td>-0.010309</td>\n",
       "      <td>1.247203</td>\n",
       "      <td>0.237609</td>\n",
       "      <td>0.377436</td>\n",
       "      <td>-1.387024</td>\n",
       "      <td>...</td>\n",
       "      <td>-0.108300</td>\n",
       "      <td>0.005274</td>\n",
       "      <td>-0.190321</td>\n",
       "      <td>-1.175575</td>\n",
       "      <td>0.647376</td>\n",
       "      <td>-0.221929</td>\n",
       "      <td>0.062723</td>\n",
       "      <td>0.061458</td>\n",
       "      <td>123.50</td>\n",
       "      <td>0</td>\n",
       "    </tr>\n",
       "    <tr>\n",
       "      <th>4</th>\n",
       "      <td>2.0</td>\n",
       "      <td>-1.158233</td>\n",
       "      <td>0.877737</td>\n",
       "      <td>1.548718</td>\n",
       "      <td>0.403034</td>\n",
       "      <td>-0.407193</td>\n",
       "      <td>0.095921</td>\n",
       "      <td>0.592941</td>\n",
       "      <td>-0.270533</td>\n",
       "      <td>0.817739</td>\n",
       "      <td>...</td>\n",
       "      <td>-0.009431</td>\n",
       "      <td>0.798278</td>\n",
       "      <td>-0.137458</td>\n",
       "      <td>0.141267</td>\n",
       "      <td>-0.206010</td>\n",
       "      <td>0.502292</td>\n",
       "      <td>0.219422</td>\n",
       "      <td>0.215153</td>\n",
       "      <td>69.99</td>\n",
       "      <td>0</td>\n",
       "    </tr>\n",
       "    <tr>\n",
       "      <th>5</th>\n",
       "      <td>2.0</td>\n",
       "      <td>-0.425966</td>\n",
       "      <td>0.960523</td>\n",
       "      <td>1.141109</td>\n",
       "      <td>-0.168252</td>\n",
       "      <td>0.420987</td>\n",
       "      <td>-0.029728</td>\n",
       "      <td>0.476201</td>\n",
       "      <td>0.260314</td>\n",
       "      <td>-0.568671</td>\n",
       "      <td>...</td>\n",
       "      <td>-0.208254</td>\n",
       "      <td>-0.559825</td>\n",
       "      <td>-0.026398</td>\n",
       "      <td>-0.371427</td>\n",
       "      <td>-0.232794</td>\n",
       "      <td>0.105915</td>\n",
       "      <td>0.253844</td>\n",
       "      <td>0.081080</td>\n",
       "      <td>3.67</td>\n",
       "      <td>0</td>\n",
       "    </tr>\n",
       "    <tr>\n",
       "      <th>6</th>\n",
       "      <td>4.0</td>\n",
       "      <td>1.229658</td>\n",
       "      <td>0.141004</td>\n",
       "      <td>0.045371</td>\n",
       "      <td>1.202613</td>\n",
       "      <td>0.191881</td>\n",
       "      <td>0.272708</td>\n",
       "      <td>-0.005159</td>\n",
       "      <td>0.081213</td>\n",
       "      <td>0.464960</td>\n",
       "      <td>...</td>\n",
       "      <td>-0.167716</td>\n",
       "      <td>-0.270710</td>\n",
       "      <td>-0.154104</td>\n",
       "      <td>-0.780055</td>\n",
       "      <td>0.750137</td>\n",
       "      <td>-0.257237</td>\n",
       "      <td>0.034507</td>\n",
       "      <td>0.005168</td>\n",
       "      <td>4.99</td>\n",
       "      <td>0</td>\n",
       "    </tr>\n",
       "    <tr>\n",
       "      <th>7</th>\n",
       "      <td>7.0</td>\n",
       "      <td>-0.644269</td>\n",
       "      <td>1.417964</td>\n",
       "      <td>1.074380</td>\n",
       "      <td>-0.492199</td>\n",
       "      <td>0.948934</td>\n",
       "      <td>0.428118</td>\n",
       "      <td>1.120631</td>\n",
       "      <td>-3.807864</td>\n",
       "      <td>0.615375</td>\n",
       "      <td>...</td>\n",
       "      <td>1.943465</td>\n",
       "      <td>-1.015455</td>\n",
       "      <td>0.057504</td>\n",
       "      <td>-0.649709</td>\n",
       "      <td>-0.415267</td>\n",
       "      <td>-0.051634</td>\n",
       "      <td>-1.206921</td>\n",
       "      <td>-1.085339</td>\n",
       "      <td>40.80</td>\n",
       "      <td>0</td>\n",
       "    </tr>\n",
       "    <tr>\n",
       "      <th>8</th>\n",
       "      <td>7.0</td>\n",
       "      <td>-0.894286</td>\n",
       "      <td>0.286157</td>\n",
       "      <td>-0.113192</td>\n",
       "      <td>-0.271526</td>\n",
       "      <td>2.669599</td>\n",
       "      <td>3.721818</td>\n",
       "      <td>0.370145</td>\n",
       "      <td>0.851084</td>\n",
       "      <td>-0.392048</td>\n",
       "      <td>...</td>\n",
       "      <td>-0.073425</td>\n",
       "      <td>-0.268092</td>\n",
       "      <td>-0.204233</td>\n",
       "      <td>1.011592</td>\n",
       "      <td>0.373205</td>\n",
       "      <td>-0.384157</td>\n",
       "      <td>0.011747</td>\n",
       "      <td>0.142404</td>\n",
       "      <td>93.20</td>\n",
       "      <td>0</td>\n",
       "    </tr>\n",
       "    <tr>\n",
       "      <th>9</th>\n",
       "      <td>9.0</td>\n",
       "      <td>-0.338262</td>\n",
       "      <td>1.119593</td>\n",
       "      <td>1.044367</td>\n",
       "      <td>-0.222187</td>\n",
       "      <td>0.499361</td>\n",
       "      <td>-0.246761</td>\n",
       "      <td>0.651583</td>\n",
       "      <td>0.069539</td>\n",
       "      <td>-0.736727</td>\n",
       "      <td>...</td>\n",
       "      <td>-0.246914</td>\n",
       "      <td>-0.633753</td>\n",
       "      <td>-0.120794</td>\n",
       "      <td>-0.385050</td>\n",
       "      <td>-0.069733</td>\n",
       "      <td>0.094199</td>\n",
       "      <td>0.246219</td>\n",
       "      <td>0.083076</td>\n",
       "      <td>3.68</td>\n",
       "      <td>0</td>\n",
       "    </tr>\n",
       "  </tbody>\n",
       "</table>\n",
       "<p>10 rows × 31 columns</p>\n",
       "</div>"
      ],
      "text/plain": [
       "   Time        V1        V2        V3        V4        V5        V6        V7  \\\n",
       "0   0.0 -1.359807 -0.072781  2.536347  1.378155 -0.338321  0.462388  0.239599   \n",
       "1   0.0  1.191857  0.266151  0.166480  0.448154  0.060018 -0.082361 -0.078803   \n",
       "2   1.0 -1.358354 -1.340163  1.773209  0.379780 -0.503198  1.800499  0.791461   \n",
       "3   1.0 -0.966272 -0.185226  1.792993 -0.863291 -0.010309  1.247203  0.237609   \n",
       "4   2.0 -1.158233  0.877737  1.548718  0.403034 -0.407193  0.095921  0.592941   \n",
       "5   2.0 -0.425966  0.960523  1.141109 -0.168252  0.420987 -0.029728  0.476201   \n",
       "6   4.0  1.229658  0.141004  0.045371  1.202613  0.191881  0.272708 -0.005159   \n",
       "7   7.0 -0.644269  1.417964  1.074380 -0.492199  0.948934  0.428118  1.120631   \n",
       "8   7.0 -0.894286  0.286157 -0.113192 -0.271526  2.669599  3.721818  0.370145   \n",
       "9   9.0 -0.338262  1.119593  1.044367 -0.222187  0.499361 -0.246761  0.651583   \n",
       "\n",
       "         V8        V9  ...       V21       V22       V23       V24       V25  \\\n",
       "0  0.098698  0.363787  ... -0.018307  0.277838 -0.110474  0.066928  0.128539   \n",
       "1  0.085102 -0.255425  ... -0.225775 -0.638672  0.101288 -0.339846  0.167170   \n",
       "2  0.247676 -1.514654  ...  0.247998  0.771679  0.909412 -0.689281 -0.327642   \n",
       "3  0.377436 -1.387024  ... -0.108300  0.005274 -0.190321 -1.175575  0.647376   \n",
       "4 -0.270533  0.817739  ... -0.009431  0.798278 -0.137458  0.141267 -0.206010   \n",
       "5  0.260314 -0.568671  ... -0.208254 -0.559825 -0.026398 -0.371427 -0.232794   \n",
       "6  0.081213  0.464960  ... -0.167716 -0.270710 -0.154104 -0.780055  0.750137   \n",
       "7 -3.807864  0.615375  ...  1.943465 -1.015455  0.057504 -0.649709 -0.415267   \n",
       "8  0.851084 -0.392048  ... -0.073425 -0.268092 -0.204233  1.011592  0.373205   \n",
       "9  0.069539 -0.736727  ... -0.246914 -0.633753 -0.120794 -0.385050 -0.069733   \n",
       "\n",
       "        V26       V27       V28  Amount  Class  \n",
       "0 -0.189115  0.133558 -0.021053  149.62      0  \n",
       "1  0.125895 -0.008983  0.014724    2.69      0  \n",
       "2 -0.139097 -0.055353 -0.059752  378.66      0  \n",
       "3 -0.221929  0.062723  0.061458  123.50      0  \n",
       "4  0.502292  0.219422  0.215153   69.99      0  \n",
       "5  0.105915  0.253844  0.081080    3.67      0  \n",
       "6 -0.257237  0.034507  0.005168    4.99      0  \n",
       "7 -0.051634 -1.206921 -1.085339   40.80      0  \n",
       "8 -0.384157  0.011747  0.142404   93.20      0  \n",
       "9  0.094199  0.246219  0.083076    3.68      0  \n",
       "\n",
       "[10 rows x 31 columns]"
      ]
     },
     "execution_count": 3,
     "metadata": {},
     "output_type": "execute_result"
    }
   ],
   "source": [
    "df.head(10)"
   ]
  },
  {
   "cell_type": "code",
   "execution_count": 4,
   "id": "c28f1545",
   "metadata": {
    "execution": {
     "iopub.execute_input": "2024-02-26T18:01:25.109576Z",
     "iopub.status.busy": "2024-02-26T18:01:25.109008Z",
     "iopub.status.idle": "2024-02-26T18:01:25.160225Z",
     "shell.execute_reply": "2024-02-26T18:01:25.158813Z"
    },
    "papermill": {
     "duration": 0.066894,
     "end_time": "2024-02-26T18:01:25.163538",
     "exception": false,
     "start_time": "2024-02-26T18:01:25.096644",
     "status": "completed"
    },
    "tags": []
   },
   "outputs": [
    {
     "name": "stdout",
     "output_type": "stream",
     "text": [
      "<class 'pandas.core.frame.DataFrame'>\n",
      "RangeIndex: 284807 entries, 0 to 284806\n",
      "Data columns (total 31 columns):\n",
      " #   Column  Non-Null Count   Dtype  \n",
      "---  ------  --------------   -----  \n",
      " 0   Time    284807 non-null  float64\n",
      " 1   V1      284807 non-null  float64\n",
      " 2   V2      284807 non-null  float64\n",
      " 3   V3      284807 non-null  float64\n",
      " 4   V4      284807 non-null  float64\n",
      " 5   V5      284807 non-null  float64\n",
      " 6   V6      284807 non-null  float64\n",
      " 7   V7      284807 non-null  float64\n",
      " 8   V8      284807 non-null  float64\n",
      " 9   V9      284807 non-null  float64\n",
      " 10  V10     284807 non-null  float64\n",
      " 11  V11     284807 non-null  float64\n",
      " 12  V12     284807 non-null  float64\n",
      " 13  V13     284807 non-null  float64\n",
      " 14  V14     284807 non-null  float64\n",
      " 15  V15     284807 non-null  float64\n",
      " 16  V16     284807 non-null  float64\n",
      " 17  V17     284807 non-null  float64\n",
      " 18  V18     284807 non-null  float64\n",
      " 19  V19     284807 non-null  float64\n",
      " 20  V20     284807 non-null  float64\n",
      " 21  V21     284807 non-null  float64\n",
      " 22  V22     284807 non-null  float64\n",
      " 23  V23     284807 non-null  float64\n",
      " 24  V24     284807 non-null  float64\n",
      " 25  V25     284807 non-null  float64\n",
      " 26  V26     284807 non-null  float64\n",
      " 27  V27     284807 non-null  float64\n",
      " 28  V28     284807 non-null  float64\n",
      " 29  Amount  284807 non-null  float64\n",
      " 30  Class   284807 non-null  int64  \n",
      "dtypes: float64(30), int64(1)\n",
      "memory usage: 67.4 MB\n"
     ]
    }
   ],
   "source": [
    "df.info()"
   ]
  },
  {
   "cell_type": "code",
   "execution_count": 5,
   "id": "c062fe3e",
   "metadata": {
    "execution": {
     "iopub.execute_input": "2024-02-26T18:01:25.187814Z",
     "iopub.status.busy": "2024-02-26T18:01:25.186285Z",
     "iopub.status.idle": "2024-02-26T18:01:25.214103Z",
     "shell.execute_reply": "2024-02-26T18:01:25.212851Z"
    },
    "papermill": {
     "duration": 0.042812,
     "end_time": "2024-02-26T18:01:25.216637",
     "exception": false,
     "start_time": "2024-02-26T18:01:25.173825",
     "status": "completed"
    },
    "tags": []
   },
   "outputs": [
    {
     "data": {
      "text/plain": [
       "Time      0\n",
       "V1        0\n",
       "V2        0\n",
       "V3        0\n",
       "V4        0\n",
       "V5        0\n",
       "V6        0\n",
       "V7        0\n",
       "V8        0\n",
       "V9        0\n",
       "V10       0\n",
       "V11       0\n",
       "V12       0\n",
       "V13       0\n",
       "V14       0\n",
       "V15       0\n",
       "V16       0\n",
       "V17       0\n",
       "V18       0\n",
       "V19       0\n",
       "V20       0\n",
       "V21       0\n",
       "V22       0\n",
       "V23       0\n",
       "V24       0\n",
       "V25       0\n",
       "V26       0\n",
       "V27       0\n",
       "V28       0\n",
       "Amount    0\n",
       "Class     0\n",
       "dtype: int64"
      ]
     },
     "execution_count": 5,
     "metadata": {},
     "output_type": "execute_result"
    }
   ],
   "source": [
    "df.isna().sum()\n"
   ]
  },
  {
   "cell_type": "code",
   "execution_count": 6,
   "id": "9f47a475",
   "metadata": {
    "execution": {
     "iopub.execute_input": "2024-02-26T18:01:25.239440Z",
     "iopub.status.busy": "2024-02-26T18:01:25.238936Z",
     "iopub.status.idle": "2024-02-26T18:01:25.753849Z",
     "shell.execute_reply": "2024-02-26T18:01:25.752675Z"
    },
    "papermill": {
     "duration": 0.529737,
     "end_time": "2024-02-26T18:01:25.756796",
     "exception": false,
     "start_time": "2024-02-26T18:01:25.227059",
     "status": "completed"
    },
    "tags": []
   },
   "outputs": [
    {
     "data": {
      "text/html": [
       "<div>\n",
       "<style scoped>\n",
       "    .dataframe tbody tr th:only-of-type {\n",
       "        vertical-align: middle;\n",
       "    }\n",
       "\n",
       "    .dataframe tbody tr th {\n",
       "        vertical-align: top;\n",
       "    }\n",
       "\n",
       "    .dataframe thead th {\n",
       "        text-align: right;\n",
       "    }\n",
       "</style>\n",
       "<table border=\"1\" class=\"dataframe\">\n",
       "  <thead>\n",
       "    <tr style=\"text-align: right;\">\n",
       "      <th></th>\n",
       "      <th>Time</th>\n",
       "      <th>V1</th>\n",
       "      <th>V2</th>\n",
       "      <th>V3</th>\n",
       "      <th>V4</th>\n",
       "      <th>V5</th>\n",
       "      <th>V6</th>\n",
       "      <th>V7</th>\n",
       "      <th>V8</th>\n",
       "      <th>V9</th>\n",
       "      <th>...</th>\n",
       "      <th>V21</th>\n",
       "      <th>V22</th>\n",
       "      <th>V23</th>\n",
       "      <th>V24</th>\n",
       "      <th>V25</th>\n",
       "      <th>V26</th>\n",
       "      <th>V27</th>\n",
       "      <th>V28</th>\n",
       "      <th>Amount</th>\n",
       "      <th>Class</th>\n",
       "    </tr>\n",
       "  </thead>\n",
       "  <tbody>\n",
       "    <tr>\n",
       "      <th>count</th>\n",
       "      <td>284807.000</td>\n",
       "      <td>284807.000</td>\n",
       "      <td>284807.000</td>\n",
       "      <td>284807.000</td>\n",
       "      <td>284807.000</td>\n",
       "      <td>284807.000</td>\n",
       "      <td>284807.000</td>\n",
       "      <td>284807.000</td>\n",
       "      <td>284807.000</td>\n",
       "      <td>284807.000</td>\n",
       "      <td>...</td>\n",
       "      <td>284807.000</td>\n",
       "      <td>284807.000</td>\n",
       "      <td>284807.000</td>\n",
       "      <td>284807.000</td>\n",
       "      <td>284807.000</td>\n",
       "      <td>284807.000</td>\n",
       "      <td>284807.000</td>\n",
       "      <td>284807.000</td>\n",
       "      <td>284807.000</td>\n",
       "      <td>284807.000</td>\n",
       "    </tr>\n",
       "    <tr>\n",
       "      <th>mean</th>\n",
       "      <td>94813.860</td>\n",
       "      <td>0.000</td>\n",
       "      <td>0.000</td>\n",
       "      <td>-0.000</td>\n",
       "      <td>0.000</td>\n",
       "      <td>0.000</td>\n",
       "      <td>0.000</td>\n",
       "      <td>-0.000</td>\n",
       "      <td>0.000</td>\n",
       "      <td>-0.000</td>\n",
       "      <td>...</td>\n",
       "      <td>0.000</td>\n",
       "      <td>-0.000</td>\n",
       "      <td>0.000</td>\n",
       "      <td>0.000</td>\n",
       "      <td>0.000</td>\n",
       "      <td>0.000</td>\n",
       "      <td>-0.000</td>\n",
       "      <td>-0.000</td>\n",
       "      <td>88.350</td>\n",
       "      <td>0.002</td>\n",
       "    </tr>\n",
       "    <tr>\n",
       "      <th>std</th>\n",
       "      <td>47488.146</td>\n",
       "      <td>1.959</td>\n",
       "      <td>1.651</td>\n",
       "      <td>1.516</td>\n",
       "      <td>1.416</td>\n",
       "      <td>1.380</td>\n",
       "      <td>1.332</td>\n",
       "      <td>1.237</td>\n",
       "      <td>1.194</td>\n",
       "      <td>1.099</td>\n",
       "      <td>...</td>\n",
       "      <td>0.735</td>\n",
       "      <td>0.726</td>\n",
       "      <td>0.624</td>\n",
       "      <td>0.606</td>\n",
       "      <td>0.521</td>\n",
       "      <td>0.482</td>\n",
       "      <td>0.404</td>\n",
       "      <td>0.330</td>\n",
       "      <td>250.120</td>\n",
       "      <td>0.042</td>\n",
       "    </tr>\n",
       "    <tr>\n",
       "      <th>min</th>\n",
       "      <td>0.000</td>\n",
       "      <td>-56.408</td>\n",
       "      <td>-72.716</td>\n",
       "      <td>-48.326</td>\n",
       "      <td>-5.683</td>\n",
       "      <td>-113.743</td>\n",
       "      <td>-26.161</td>\n",
       "      <td>-43.557</td>\n",
       "      <td>-73.217</td>\n",
       "      <td>-13.434</td>\n",
       "      <td>...</td>\n",
       "      <td>-34.830</td>\n",
       "      <td>-10.933</td>\n",
       "      <td>-44.808</td>\n",
       "      <td>-2.837</td>\n",
       "      <td>-10.295</td>\n",
       "      <td>-2.605</td>\n",
       "      <td>-22.566</td>\n",
       "      <td>-15.430</td>\n",
       "      <td>0.000</td>\n",
       "      <td>0.000</td>\n",
       "    </tr>\n",
       "    <tr>\n",
       "      <th>25%</th>\n",
       "      <td>54201.500</td>\n",
       "      <td>-0.920</td>\n",
       "      <td>-0.599</td>\n",
       "      <td>-0.890</td>\n",
       "      <td>-0.849</td>\n",
       "      <td>-0.692</td>\n",
       "      <td>-0.768</td>\n",
       "      <td>-0.554</td>\n",
       "      <td>-0.209</td>\n",
       "      <td>-0.643</td>\n",
       "      <td>...</td>\n",
       "      <td>-0.228</td>\n",
       "      <td>-0.542</td>\n",
       "      <td>-0.162</td>\n",
       "      <td>-0.355</td>\n",
       "      <td>-0.317</td>\n",
       "      <td>-0.327</td>\n",
       "      <td>-0.071</td>\n",
       "      <td>-0.053</td>\n",
       "      <td>5.600</td>\n",
       "      <td>0.000</td>\n",
       "    </tr>\n",
       "    <tr>\n",
       "      <th>50%</th>\n",
       "      <td>84692.000</td>\n",
       "      <td>0.018</td>\n",
       "      <td>0.065</td>\n",
       "      <td>0.180</td>\n",
       "      <td>-0.020</td>\n",
       "      <td>-0.054</td>\n",
       "      <td>-0.274</td>\n",
       "      <td>0.040</td>\n",
       "      <td>0.022</td>\n",
       "      <td>-0.051</td>\n",
       "      <td>...</td>\n",
       "      <td>-0.029</td>\n",
       "      <td>0.007</td>\n",
       "      <td>-0.011</td>\n",
       "      <td>0.041</td>\n",
       "      <td>0.017</td>\n",
       "      <td>-0.052</td>\n",
       "      <td>0.001</td>\n",
       "      <td>0.011</td>\n",
       "      <td>22.000</td>\n",
       "      <td>0.000</td>\n",
       "    </tr>\n",
       "    <tr>\n",
       "      <th>75%</th>\n",
       "      <td>139320.500</td>\n",
       "      <td>1.316</td>\n",
       "      <td>0.804</td>\n",
       "      <td>1.027</td>\n",
       "      <td>0.743</td>\n",
       "      <td>0.612</td>\n",
       "      <td>0.399</td>\n",
       "      <td>0.570</td>\n",
       "      <td>0.327</td>\n",
       "      <td>0.597</td>\n",
       "      <td>...</td>\n",
       "      <td>0.186</td>\n",
       "      <td>0.529</td>\n",
       "      <td>0.148</td>\n",
       "      <td>0.440</td>\n",
       "      <td>0.351</td>\n",
       "      <td>0.241</td>\n",
       "      <td>0.091</td>\n",
       "      <td>0.078</td>\n",
       "      <td>77.165</td>\n",
       "      <td>0.000</td>\n",
       "    </tr>\n",
       "    <tr>\n",
       "      <th>max</th>\n",
       "      <td>172792.000</td>\n",
       "      <td>2.455</td>\n",
       "      <td>22.058</td>\n",
       "      <td>9.383</td>\n",
       "      <td>16.875</td>\n",
       "      <td>34.802</td>\n",
       "      <td>73.302</td>\n",
       "      <td>120.589</td>\n",
       "      <td>20.007</td>\n",
       "      <td>15.595</td>\n",
       "      <td>...</td>\n",
       "      <td>27.203</td>\n",
       "      <td>10.503</td>\n",
       "      <td>22.528</td>\n",
       "      <td>4.585</td>\n",
       "      <td>7.520</td>\n",
       "      <td>3.517</td>\n",
       "      <td>31.612</td>\n",
       "      <td>33.848</td>\n",
       "      <td>25691.160</td>\n",
       "      <td>1.000</td>\n",
       "    </tr>\n",
       "  </tbody>\n",
       "</table>\n",
       "<p>8 rows × 31 columns</p>\n",
       "</div>"
      ],
      "text/plain": [
       "             Time          V1          V2          V3          V4          V5  \\\n",
       "count  284807.000  284807.000  284807.000  284807.000  284807.000  284807.000   \n",
       "mean    94813.860       0.000       0.000      -0.000       0.000       0.000   \n",
       "std     47488.146       1.959       1.651       1.516       1.416       1.380   \n",
       "min         0.000     -56.408     -72.716     -48.326      -5.683    -113.743   \n",
       "25%     54201.500      -0.920      -0.599      -0.890      -0.849      -0.692   \n",
       "50%     84692.000       0.018       0.065       0.180      -0.020      -0.054   \n",
       "75%    139320.500       1.316       0.804       1.027       0.743       0.612   \n",
       "max    172792.000       2.455      22.058       9.383      16.875      34.802   \n",
       "\n",
       "               V6          V7          V8          V9  ...         V21  \\\n",
       "count  284807.000  284807.000  284807.000  284807.000  ...  284807.000   \n",
       "mean        0.000      -0.000       0.000      -0.000  ...       0.000   \n",
       "std         1.332       1.237       1.194       1.099  ...       0.735   \n",
       "min       -26.161     -43.557     -73.217     -13.434  ...     -34.830   \n",
       "25%        -0.768      -0.554      -0.209      -0.643  ...      -0.228   \n",
       "50%        -0.274       0.040       0.022      -0.051  ...      -0.029   \n",
       "75%         0.399       0.570       0.327       0.597  ...       0.186   \n",
       "max        73.302     120.589      20.007      15.595  ...      27.203   \n",
       "\n",
       "              V22         V23         V24         V25         V26         V27  \\\n",
       "count  284807.000  284807.000  284807.000  284807.000  284807.000  284807.000   \n",
       "mean       -0.000       0.000       0.000       0.000       0.000      -0.000   \n",
       "std         0.726       0.624       0.606       0.521       0.482       0.404   \n",
       "min       -10.933     -44.808      -2.837     -10.295      -2.605     -22.566   \n",
       "25%        -0.542      -0.162      -0.355      -0.317      -0.327      -0.071   \n",
       "50%         0.007      -0.011       0.041       0.017      -0.052       0.001   \n",
       "75%         0.529       0.148       0.440       0.351       0.241       0.091   \n",
       "max        10.503      22.528       4.585       7.520       3.517      31.612   \n",
       "\n",
       "              V28      Amount       Class  \n",
       "count  284807.000  284807.000  284807.000  \n",
       "mean       -0.000      88.350       0.002  \n",
       "std         0.330     250.120       0.042  \n",
       "min       -15.430       0.000       0.000  \n",
       "25%        -0.053       5.600       0.000  \n",
       "50%         0.011      22.000       0.000  \n",
       "75%         0.078      77.165       0.000  \n",
       "max        33.848   25691.160       1.000  \n",
       "\n",
       "[8 rows x 31 columns]"
      ]
     },
     "execution_count": 6,
     "metadata": {},
     "output_type": "execute_result"
    }
   ],
   "source": [
    "df.describe().round(3)"
   ]
  },
  {
   "cell_type": "code",
   "execution_count": 7,
   "id": "8d793b78",
   "metadata": {
    "execution": {
     "iopub.execute_input": "2024-02-26T18:01:25.781263Z",
     "iopub.status.busy": "2024-02-26T18:01:25.780864Z",
     "iopub.status.idle": "2024-02-26T18:01:26.620721Z",
     "shell.execute_reply": "2024-02-26T18:01:26.619628Z"
    },
    "papermill": {
     "duration": 0.85585,
     "end_time": "2024-02-26T18:01:26.623913",
     "exception": false,
     "start_time": "2024-02-26T18:01:25.768063",
     "status": "completed"
    },
    "tags": []
   },
   "outputs": [
    {
     "data": {
      "text/plain": [
       "1081"
      ]
     },
     "execution_count": 7,
     "metadata": {},
     "output_type": "execute_result"
    }
   ],
   "source": [
    "df.duplicated().sum()"
   ]
  },
  {
   "cell_type": "markdown",
   "id": "805595b9",
   "metadata": {
    "papermill": {
     "duration": 0.010824,
     "end_time": "2024-02-26T18:01:26.645838",
     "exception": false,
     "start_time": "2024-02-26T18:01:26.635014",
     "status": "completed"
    },
    "tags": []
   },
   "source": [
    "since there are duplicated values, so dropping them"
   ]
  },
  {
   "cell_type": "code",
   "execution_count": 8,
   "id": "6538c974",
   "metadata": {
    "execution": {
     "iopub.execute_input": "2024-02-26T18:01:26.669547Z",
     "iopub.status.busy": "2024-02-26T18:01:26.669111Z",
     "iopub.status.idle": "2024-02-26T18:01:27.764059Z",
     "shell.execute_reply": "2024-02-26T18:01:27.763169Z"
    },
    "papermill": {
     "duration": 1.110132,
     "end_time": "2024-02-26T18:01:27.766922",
     "exception": false,
     "start_time": "2024-02-26T18:01:26.656790",
     "status": "completed"
    },
    "tags": []
   },
   "outputs": [],
   "source": [
    "df.drop_duplicates(df,inplace=True)"
   ]
  },
  {
   "cell_type": "code",
   "execution_count": 9,
   "id": "c82bb6e1",
   "metadata": {
    "execution": {
     "iopub.execute_input": "2024-02-26T18:01:27.792371Z",
     "iopub.status.busy": "2024-02-26T18:01:27.791744Z",
     "iopub.status.idle": "2024-02-26T18:01:27.798315Z",
     "shell.execute_reply": "2024-02-26T18:01:27.797190Z"
    },
    "papermill": {
     "duration": 0.022951,
     "end_time": "2024-02-26T18:01:27.801463",
     "exception": false,
     "start_time": "2024-02-26T18:01:27.778512",
     "status": "completed"
    },
    "tags": []
   },
   "outputs": [
    {
     "data": {
      "text/plain": [
       "(283726, 31)"
      ]
     },
     "execution_count": 9,
     "metadata": {},
     "output_type": "execute_result"
    }
   ],
   "source": [
    "df.shape"
   ]
  },
  {
   "cell_type": "markdown",
   "id": "5e2e51af",
   "metadata": {
    "papermill": {
     "duration": 0.012291,
     "end_time": "2024-02-26T18:01:27.826152",
     "exception": false,
     "start_time": "2024-02-26T18:01:27.813861",
     "status": "completed"
    },
    "tags": []
   },
   "source": [
    "# Visualization"
   ]
  },
  {
   "cell_type": "code",
   "execution_count": 10,
   "id": "27764499",
   "metadata": {
    "execution": {
     "iopub.execute_input": "2024-02-26T18:01:27.854308Z",
     "iopub.status.busy": "2024-02-26T18:01:27.853325Z",
     "iopub.status.idle": "2024-02-26T18:01:28.201403Z",
     "shell.execute_reply": "2024-02-26T18:01:28.199886Z"
    },
    "papermill": {
     "duration": 0.364088,
     "end_time": "2024-02-26T18:01:28.204547",
     "exception": false,
     "start_time": "2024-02-26T18:01:27.840459",
     "status": "completed"
    },
    "tags": []
   },
   "outputs": [
    {
     "data": {
      "image/png": "[encoded data removed]",
      "text/plain": [
       "<Figure size 640x480 with 1 Axes>"
      ]
     },
     "metadata": {},
     "output_type": "display_data"
    }
   ],
   "source": [
    "df[\"Class\"].value_counts().plot(kind= \"pie\",autopct='%1.3f%%', shadow = True)\n",
    "plt.show()\n",
    "# 0 means no fraud and 1 is fraud"
   ]
  },
  {
   "cell_type": "code",
   "execution_count": 11,
   "id": "39d2c330",
   "metadata": {
    "execution": {
     "iopub.execute_input": "2024-02-26T18:01:28.230673Z",
     "iopub.status.busy": "2024-02-26T18:01:28.230170Z",
     "iopub.status.idle": "2024-02-26T18:01:28.476538Z",
     "shell.execute_reply": "2024-02-26T18:01:28.475678Z"
    },
    "papermill": {
     "duration": 0.262425,
     "end_time": "2024-02-26T18:01:28.479130",
     "exception": false,
     "start_time": "2024-02-26T18:01:28.216705",
     "status": "completed"
    },
    "tags": []
   },
   "outputs": [
    {
     "data": {
      "image/png": "[encoded data removed]",
      "text/plain": [
       "<Figure size 640x480 with 1 Axes>"
      ]
     },
     "metadata": {},
     "output_type": "display_data"
    }
   ],
   "source": [
    "plt.hist (data= df, x=\"Amount\", color = 'blue')\n",
    "plt.title(\"where is the distributing in Amount column\")\n",
    "plt.show()"
   ]
  },
  {
   "cell_type": "code",
   "execution_count": 12,
   "id": "541d01f8",
   "metadata": {
    "execution": {
     "iopub.execute_input": "2024-02-26T18:01:28.506693Z",
     "iopub.status.busy": "2024-02-26T18:01:28.505750Z",
     "iopub.status.idle": "2024-02-26T18:01:28.556661Z",
     "shell.execute_reply": "2024-02-26T18:01:28.555452Z"
    },
    "papermill": {
     "duration": 0.067867,
     "end_time": "2024-02-26T18:01:28.559389",
     "exception": false,
     "start_time": "2024-02-26T18:01:28.491522",
     "status": "completed"
    },
    "tags": []
   },
   "outputs": [
    {
     "data": {
      "text/plain": [
       "274771    25691.16\n",
       "58465     19656.53\n",
       "151296    18910.00\n",
       "46841     12910.93\n",
       "54018     11898.09\n",
       "169457    11789.84\n",
       "284249    10199.44\n",
       "227921    10000.00\n",
       "74699      8790.26\n",
       "245474     8787.00\n",
       "Name: Amount, dtype: float64"
      ]
     },
     "execution_count": 12,
     "metadata": {},
     "output_type": "execute_result"
    }
   ],
   "source": [
    "df[\"Amount\"].sort_values(ascending=False).head(10)"
   ]
  },
  {
   "cell_type": "markdown",
   "id": "c13d27e0",
   "metadata": {
    "papermill": {
     "duration": 0.01183,
     "end_time": "2024-02-26T18:01:28.584107",
     "exception": false,
     "start_time": "2024-02-26T18:01:28.572277",
     "status": "completed"
    },
    "tags": []
   },
   "source": [
    "# Building ML Model -> Classification"
   ]
  },
  {
   "cell_type": "code",
   "execution_count": 13,
   "id": "6f239be8",
   "metadata": {
    "execution": {
     "iopub.execute_input": "2024-02-26T18:01:28.611941Z",
     "iopub.status.busy": "2024-02-26T18:01:28.610489Z",
     "iopub.status.idle": "2024-02-26T18:01:29.139266Z",
     "shell.execute_reply": "2024-02-26T18:01:29.137914Z"
    },
    "papermill": {
     "duration": 0.545981,
     "end_time": "2024-02-26T18:01:29.142368",
     "exception": false,
     "start_time": "2024-02-26T18:01:28.596387",
     "status": "completed"
    },
    "tags": []
   },
   "outputs": [],
   "source": [
    "from sklearn.model_selection import train_test_split\n",
    "\n",
    "from sklearn.metrics import  classification_report\n",
    "\n",
    "\n",
    "from sklearn.linear_model import LogisticRegression\n",
    "from sklearn.tree import DecisionTreeClassifier\n",
    "from sklearn.neighbors import  KNeighborsClassifier\n",
    "from sklearn.ensemble import RandomForestClassifier\n",
    "from sklearn.neural_network import  MLPClassifier\n",
    "from sklearn.svm import SVC"
   ]
  },
  {
   "cell_type": "code",
   "execution_count": 14,
   "id": "a9e02144",
   "metadata": {
    "execution": {
     "iopub.execute_input": "2024-02-26T18:01:29.169284Z",
     "iopub.status.busy": "2024-02-26T18:01:29.168867Z",
     "iopub.status.idle": "2024-02-26T18:01:29.302699Z",
     "shell.execute_reply": "2024-02-26T18:01:29.301136Z"
    },
    "papermill": {
     "duration": 0.151056,
     "end_time": "2024-02-26T18:01:29.305676",
     "exception": false,
     "start_time": "2024-02-26T18:01:29.154620",
     "status": "completed"
    },
    "tags": []
   },
   "outputs": [
    {
     "name": "stdout",
     "output_type": "stream",
     "text": [
      "X Train :  (212794, 30)\n",
      "X Test  :  (70932, 30)\n",
      "Y Train :  (212794,)\n",
      "Y Test  :  (70932,)\n"
     ]
    }
   ],
   "source": [
    "X = df.drop(columns=\"Class\")           \n",
    "y = df[\"Class\"]    # y = class\n",
    "\n",
    "# split the data train and test\n",
    "X_train, X_test, y_train, y_test = train_test_split(X, y, test_size=0.25, random_state=42)\n",
    "\n",
    "print(\"X Train : \", X_train.shape)\n",
    "print(\"X Test  : \", X_test.shape)\n",
    "print(\"Y Train : \", y_train.shape)\n",
    "print(\"Y Test  : \", y_test.shape)"
   ]
  },
  {
   "cell_type": "code",
   "execution_count": 15,
   "id": "2d3bdce7",
   "metadata": {
    "execution": {
     "iopub.execute_input": "2024-02-26T18:01:29.334125Z",
     "iopub.status.busy": "2024-02-26T18:01:29.333724Z",
     "iopub.status.idle": "2024-02-26T18:01:29.340423Z",
     "shell.execute_reply": "2024-02-26T18:01:29.339045Z"
    },
    "papermill": {
     "duration": 0.024272,
     "end_time": "2024-02-26T18:01:29.343259",
     "exception": false,
     "start_time": "2024-02-26T18:01:29.318987",
     "status": "completed"
    },
    "tags": []
   },
   "outputs": [],
   "source": [
    "LR = LogisticRegression()\n",
    "DTR = DecisionTreeClassifier()\n",
    "RFR = RandomForestClassifier()\n",
    "KNR = KNeighborsClassifier()\n",
    "MLP = MLPClassifier()\n",
    "SVC=SVC()"
   ]
  },
  {
   "cell_type": "code",
   "execution_count": 16,
   "id": "c6c292aa",
   "metadata": {
    "execution": {
     "iopub.execute_input": "2024-02-26T18:01:29.371607Z",
     "iopub.status.busy": "2024-02-26T18:01:29.371207Z",
     "iopub.status.idle": "2024-02-26T18:09:43.301611Z",
     "shell.execute_reply": "2024-02-26T18:09:43.299814Z"
    },
    "papermill": {
     "duration": 493.959656,
     "end_time": "2024-02-26T18:09:43.315894",
     "exception": false,
     "start_time": "2024-02-26T18:01:29.356238",
     "status": "completed"
    },
    "tags": []
   },
   "outputs": [
    {
     "name": "stderr",
     "output_type": "stream",
     "text": [
      "/opt/conda/lib/python3.10/site-packages/sklearn/linear_model/_logistic.py:458: ConvergenceWarning: lbfgs failed to converge (status=1):\n",
      "STOP: TOTAL NO. of ITERATIONS REACHED LIMIT.\n",
      "\n",
      "Increase the number of iterations (max_iter) or scale the data as shown in:\n",
      "    https://scikit-learn.org/stable/modules/preprocessing.html\n",
      "Please also refer to the documentation for alternative solver options:\n",
      "    https://scikit-learn.org/stable/modules/linear_model.html#logistic-regression\n",
      "  n_iter_i = _check_optimize_result(\n"
     ]
    },
    {
     "name": "stdout",
     "output_type": "stream",
     "text": [
      "LogisticRegression() :               precision    recall  f1-score   support\n",
      "\n",
      "           0       1.00      1.00      1.00     70820\n",
      "           1       0.77      0.64      0.70       112\n",
      "\n",
      "    accuracy                           1.00     70932\n",
      "   macro avg       0.89      0.82      0.85     70932\n",
      "weighted avg       1.00      1.00      1.00     70932\n",
      "\n",
      "********************************************\n",
      "DecisionTreeClassifier() :               precision    recall  f1-score   support\n",
      "\n",
      "           0       1.00      1.00      1.00     70820\n",
      "           1       0.72      0.74      0.73       112\n",
      "\n",
      "    accuracy                           1.00     70932\n",
      "   macro avg       0.86      0.87      0.87     70932\n",
      "weighted avg       1.00      1.00      1.00     70932\n",
      "\n",
      "********************************************\n",
      "RandomForestClassifier() :               precision    recall  f1-score   support\n",
      "\n",
      "           0       1.00      1.00      1.00     70820\n",
      "           1       0.97      0.74      0.84       112\n",
      "\n",
      "    accuracy                           1.00     70932\n",
      "   macro avg       0.98      0.87      0.92     70932\n",
      "weighted avg       1.00      1.00      1.00     70932\n",
      "\n",
      "********************************************\n",
      "KNeighborsClassifier() :               precision    recall  f1-score   support\n",
      "\n",
      "           0       1.00      1.00      1.00     70820\n",
      "           1       0.80      0.04      0.07       112\n",
      "\n",
      "    accuracy                           1.00     70932\n",
      "   macro avg       0.90      0.52      0.53     70932\n",
      "weighted avg       1.00      1.00      1.00     70932\n",
      "\n",
      "********************************************\n"
     ]
    },
    {
     "name": "stderr",
     "output_type": "stream",
     "text": [
      "/opt/conda/lib/python3.10/site-packages/sklearn/metrics/_classification.py:1344: UndefinedMetricWarning: Precision and F-score are ill-defined and being set to 0.0 in labels with no predicted samples. Use `zero_division` parameter to control this behavior.\n",
      "  _warn_prf(average, modifier, msg_start, len(result))\n",
      "/opt/conda/lib/python3.10/site-packages/sklearn/metrics/_classification.py:1344: UndefinedMetricWarning: Precision and F-score are ill-defined and being set to 0.0 in labels with no predicted samples. Use `zero_division` parameter to control this behavior.\n",
      "  _warn_prf(average, modifier, msg_start, len(result))\n",
      "/opt/conda/lib/python3.10/site-packages/sklearn/metrics/_classification.py:1344: UndefinedMetricWarning: Precision and F-score are ill-defined and being set to 0.0 in labels with no predicted samples. Use `zero_division` parameter to control this behavior.\n",
      "  _warn_prf(average, modifier, msg_start, len(result))\n"
     ]
    },
    {
     "name": "stdout",
     "output_type": "stream",
     "text": [
      "SVC() :               precision    recall  f1-score   support\n",
      "\n",
      "           0       1.00      1.00      1.00     70820\n",
      "           1       0.00      0.00      0.00       112\n",
      "\n",
      "    accuracy                           1.00     70932\n",
      "   macro avg       0.50      0.50      0.50     70932\n",
      "weighted avg       1.00      1.00      1.00     70932\n",
      "\n",
      "********************************************\n",
      "MLPClassifier() :               precision    recall  f1-score   support\n",
      "\n",
      "           0       1.00      1.00      1.00     70820\n",
      "           1       0.52      0.76      0.62       112\n",
      "\n",
      "    accuracy                           1.00     70932\n",
      "   macro avg       0.76      0.88      0.81     70932\n",
      "weighted avg       1.00      1.00      1.00     70932\n",
      "\n",
      "********************************************\n"
     ]
    }
   ],
   "source": [
    "li = [LR,DTR,RFR,KNR,SVC,MLP]\n",
    "\n",
    "for i in li:\n",
    "    i.fit(X_train,y_train)\n",
    "    ypred = i.predict(X_test)\n",
    "    print(i,\":\",classification_report(y_test,ypred))\n",
    "    print(\"********************************************\")"
   ]
  },
  {
   "cell_type": "code",
   "execution_count": 17,
   "id": "211fb4c4",
   "metadata": {
    "execution": {
     "iopub.execute_input": "2024-02-26T18:09:43.347860Z",
     "iopub.status.busy": "2024-02-26T18:09:43.347337Z",
     "iopub.status.idle": "2024-02-26T18:09:43.370162Z",
     "shell.execute_reply": "2024-02-26T18:09:43.368933Z"
    },
    "papermill": {
     "duration": 0.042959,
     "end_time": "2024-02-26T18:09:43.373073",
     "exception": false,
     "start_time": "2024-02-26T18:09:43.330114",
     "status": "completed"
    },
    "tags": []
   },
   "outputs": [],
   "source": [
    "from sklearn.feature_selection import SelectPercentile"
   ]
  },
  {
   "cell_type": "code",
   "execution_count": 18,
   "id": "1963eb05",
   "metadata": {
    "execution": {
     "iopub.execute_input": "2024-02-26T18:09:43.401756Z",
     "iopub.status.busy": "2024-02-26T18:09:43.401331Z",
     "iopub.status.idle": "2024-02-26T18:09:43.406501Z",
     "shell.execute_reply": "2024-02-26T18:09:43.405329Z"
    },
    "papermill": {
     "duration": 0.022588,
     "end_time": "2024-02-26T18:09:43.409045",
     "exception": false,
     "start_time": "2024-02-26T18:09:43.386457",
     "status": "completed"
    },
    "tags": []
   },
   "outputs": [],
   "source": [
    "F_50 = SelectPercentile( percentile= 50)"
   ]
  },
  {
   "cell_type": "code",
   "execution_count": 19,
   "id": "d3e68941",
   "metadata": {
    "execution": {
     "iopub.execute_input": "2024-02-26T18:09:43.438994Z",
     "iopub.status.busy": "2024-02-26T18:09:43.438584Z",
     "iopub.status.idle": "2024-02-26T18:09:43.599223Z",
     "shell.execute_reply": "2024-02-26T18:09:43.598088Z"
    },
    "papermill": {
     "duration": 0.17894,
     "end_time": "2024-02-26T18:09:43.602383",
     "exception": false,
     "start_time": "2024-02-26T18:09:43.423443",
     "status": "completed"
    },
    "tags": []
   },
   "outputs": [],
   "source": [
    "set_X = F_50.fit_transform(X,y)"
   ]
  },
  {
   "cell_type": "code",
   "execution_count": 20,
   "id": "c8257ffc",
   "metadata": {
    "execution": {
     "iopub.execute_input": "2024-02-26T18:09:43.631735Z",
     "iopub.status.busy": "2024-02-26T18:09:43.631273Z",
     "iopub.status.idle": "2024-02-26T18:09:43.660727Z",
     "shell.execute_reply": "2024-02-26T18:09:43.659559Z"
    },
    "papermill": {
     "duration": 0.047653,
     "end_time": "2024-02-26T18:09:43.663774",
     "exception": false,
     "start_time": "2024-02-26T18:09:43.616121",
     "status": "completed"
    },
    "tags": []
   },
   "outputs": [
    {
     "data": {
      "text/html": [
       "<div>\n",
       "<style scoped>\n",
       "    .dataframe tbody tr th:only-of-type {\n",
       "        vertical-align: middle;\n",
       "    }\n",
       "\n",
       "    .dataframe tbody tr th {\n",
       "        vertical-align: top;\n",
       "    }\n",
       "\n",
       "    .dataframe thead th {\n",
       "        text-align: right;\n",
       "    }\n",
       "</style>\n",
       "<table border=\"1\" class=\"dataframe\">\n",
       "  <thead>\n",
       "    <tr style=\"text-align: right;\">\n",
       "      <th></th>\n",
       "      <th>V1</th>\n",
       "      <th>V2</th>\n",
       "      <th>V3</th>\n",
       "      <th>V4</th>\n",
       "      <th>V5</th>\n",
       "      <th>V6</th>\n",
       "      <th>V7</th>\n",
       "      <th>V9</th>\n",
       "      <th>V10</th>\n",
       "      <th>V11</th>\n",
       "      <th>V12</th>\n",
       "      <th>V14</th>\n",
       "      <th>V16</th>\n",
       "      <th>V17</th>\n",
       "      <th>V18</th>\n",
       "    </tr>\n",
       "  </thead>\n",
       "  <tbody>\n",
       "    <tr>\n",
       "      <th>0</th>\n",
       "      <td>-1.359807</td>\n",
       "      <td>-0.072781</td>\n",
       "      <td>2.536347</td>\n",
       "      <td>1.378155</td>\n",
       "      <td>-0.338321</td>\n",
       "      <td>0.462388</td>\n",
       "      <td>0.239599</td>\n",
       "      <td>0.363787</td>\n",
       "      <td>0.090794</td>\n",
       "      <td>-0.551600</td>\n",
       "      <td>-0.617801</td>\n",
       "      <td>-0.311169</td>\n",
       "      <td>-0.470401</td>\n",
       "      <td>0.207971</td>\n",
       "      <td>0.025791</td>\n",
       "    </tr>\n",
       "    <tr>\n",
       "      <th>1</th>\n",
       "      <td>1.191857</td>\n",
       "      <td>0.266151</td>\n",
       "      <td>0.166480</td>\n",
       "      <td>0.448154</td>\n",
       "      <td>0.060018</td>\n",
       "      <td>-0.082361</td>\n",
       "      <td>-0.078803</td>\n",
       "      <td>-0.255425</td>\n",
       "      <td>-0.166974</td>\n",
       "      <td>1.612727</td>\n",
       "      <td>1.065235</td>\n",
       "      <td>-0.143772</td>\n",
       "      <td>0.463917</td>\n",
       "      <td>-0.114805</td>\n",
       "      <td>-0.183361</td>\n",
       "    </tr>\n",
       "    <tr>\n",
       "      <th>2</th>\n",
       "      <td>-1.358354</td>\n",
       "      <td>-1.340163</td>\n",
       "      <td>1.773209</td>\n",
       "      <td>0.379780</td>\n",
       "      <td>-0.503198</td>\n",
       "      <td>1.800499</td>\n",
       "      <td>0.791461</td>\n",
       "      <td>-1.514654</td>\n",
       "      <td>0.207643</td>\n",
       "      <td>0.624501</td>\n",
       "      <td>0.066084</td>\n",
       "      <td>-0.165946</td>\n",
       "      <td>-2.890083</td>\n",
       "      <td>1.109969</td>\n",
       "      <td>-0.121359</td>\n",
       "    </tr>\n",
       "    <tr>\n",
       "      <th>3</th>\n",
       "      <td>-0.966272</td>\n",
       "      <td>-0.185226</td>\n",
       "      <td>1.792993</td>\n",
       "      <td>-0.863291</td>\n",
       "      <td>-0.010309</td>\n",
       "      <td>1.247203</td>\n",
       "      <td>0.237609</td>\n",
       "      <td>-1.387024</td>\n",
       "      <td>-0.054952</td>\n",
       "      <td>-0.226487</td>\n",
       "      <td>0.178228</td>\n",
       "      <td>-0.287924</td>\n",
       "      <td>-1.059647</td>\n",
       "      <td>-0.684093</td>\n",
       "      <td>1.965775</td>\n",
       "    </tr>\n",
       "    <tr>\n",
       "      <th>4</th>\n",
       "      <td>-1.158233</td>\n",
       "      <td>0.877737</td>\n",
       "      <td>1.548718</td>\n",
       "      <td>0.403034</td>\n",
       "      <td>-0.407193</td>\n",
       "      <td>0.095921</td>\n",
       "      <td>0.592941</td>\n",
       "      <td>0.817739</td>\n",
       "      <td>0.753074</td>\n",
       "      <td>-0.822843</td>\n",
       "      <td>0.538196</td>\n",
       "      <td>-1.119670</td>\n",
       "      <td>-0.451449</td>\n",
       "      <td>-0.237033</td>\n",
       "      <td>-0.038195</td>\n",
       "    </tr>\n",
       "    <tr>\n",
       "      <th>...</th>\n",
       "      <td>...</td>\n",
       "      <td>...</td>\n",
       "      <td>...</td>\n",
       "      <td>...</td>\n",
       "      <td>...</td>\n",
       "      <td>...</td>\n",
       "      <td>...</td>\n",
       "      <td>...</td>\n",
       "      <td>...</td>\n",
       "      <td>...</td>\n",
       "      <td>...</td>\n",
       "      <td>...</td>\n",
       "      <td>...</td>\n",
       "      <td>...</td>\n",
       "      <td>...</td>\n",
       "    </tr>\n",
       "    <tr>\n",
       "      <th>283721</th>\n",
       "      <td>-11.881118</td>\n",
       "      <td>10.071785</td>\n",
       "      <td>-9.834783</td>\n",
       "      <td>-2.066656</td>\n",
       "      <td>-5.364473</td>\n",
       "      <td>-2.606837</td>\n",
       "      <td>-4.918215</td>\n",
       "      <td>1.914428</td>\n",
       "      <td>4.356170</td>\n",
       "      <td>-1.593105</td>\n",
       "      <td>2.711941</td>\n",
       "      <td>4.626942</td>\n",
       "      <td>1.107641</td>\n",
       "      <td>1.991691</td>\n",
       "      <td>0.510632</td>\n",
       "    </tr>\n",
       "    <tr>\n",
       "      <th>283722</th>\n",
       "      <td>-0.732789</td>\n",
       "      <td>-0.055080</td>\n",
       "      <td>2.035030</td>\n",
       "      <td>-0.738589</td>\n",
       "      <td>0.868229</td>\n",
       "      <td>1.058415</td>\n",
       "      <td>0.024330</td>\n",
       "      <td>0.584800</td>\n",
       "      <td>-0.975926</td>\n",
       "      <td>-0.150189</td>\n",
       "      <td>0.915802</td>\n",
       "      <td>-0.675143</td>\n",
       "      <td>-0.711757</td>\n",
       "      <td>-0.025693</td>\n",
       "      <td>-1.221179</td>\n",
       "    </tr>\n",
       "    <tr>\n",
       "      <th>283723</th>\n",
       "      <td>1.919565</td>\n",
       "      <td>-0.301254</td>\n",
       "      <td>-3.249640</td>\n",
       "      <td>-0.557828</td>\n",
       "      <td>2.630515</td>\n",
       "      <td>3.031260</td>\n",
       "      <td>-0.296827</td>\n",
       "      <td>0.432454</td>\n",
       "      <td>-0.484782</td>\n",
       "      <td>0.411614</td>\n",
       "      <td>0.063119</td>\n",
       "      <td>-0.510602</td>\n",
       "      <td>0.140716</td>\n",
       "      <td>0.313502</td>\n",
       "      <td>0.395652</td>\n",
       "    </tr>\n",
       "    <tr>\n",
       "      <th>283724</th>\n",
       "      <td>-0.240440</td>\n",
       "      <td>0.530483</td>\n",
       "      <td>0.702510</td>\n",
       "      <td>0.689799</td>\n",
       "      <td>-0.377961</td>\n",
       "      <td>0.623708</td>\n",
       "      <td>-0.686180</td>\n",
       "      <td>0.392087</td>\n",
       "      <td>-0.399126</td>\n",
       "      <td>-1.933849</td>\n",
       "      <td>-0.962886</td>\n",
       "      <td>0.449624</td>\n",
       "      <td>-0.608577</td>\n",
       "      <td>0.509928</td>\n",
       "      <td>1.113981</td>\n",
       "    </tr>\n",
       "    <tr>\n",
       "      <th>283725</th>\n",
       "      <td>-0.533413</td>\n",
       "      <td>-0.189733</td>\n",
       "      <td>0.703337</td>\n",
       "      <td>-0.506271</td>\n",
       "      <td>-0.012546</td>\n",
       "      <td>-0.649617</td>\n",
       "      <td>1.577006</td>\n",
       "      <td>0.486180</td>\n",
       "      <td>-0.915427</td>\n",
       "      <td>-1.040458</td>\n",
       "      <td>-0.031513</td>\n",
       "      <td>-0.084316</td>\n",
       "      <td>-0.302620</td>\n",
       "      <td>-0.660377</td>\n",
       "      <td>0.167430</td>\n",
       "    </tr>\n",
       "  </tbody>\n",
       "</table>\n",
       "<p>283726 rows × 15 columns</p>\n",
       "</div>"
      ],
      "text/plain": [
       "               V1         V2        V3        V4        V5        V6  \\\n",
       "0       -1.359807  -0.072781  2.536347  1.378155 -0.338321  0.462388   \n",
       "1        1.191857   0.266151  0.166480  0.448154  0.060018 -0.082361   \n",
       "2       -1.358354  -1.340163  1.773209  0.379780 -0.503198  1.800499   \n",
       "3       -0.966272  -0.185226  1.792993 -0.863291 -0.010309  1.247203   \n",
       "4       -1.158233   0.877737  1.548718  0.403034 -0.407193  0.095921   \n",
       "...           ...        ...       ...       ...       ...       ...   \n",
       "283721 -11.881118  10.071785 -9.834783 -2.066656 -5.364473 -2.606837   \n",
       "283722  -0.732789  -0.055080  2.035030 -0.738589  0.868229  1.058415   \n",
       "283723   1.919565  -0.301254 -3.249640 -0.557828  2.630515  3.031260   \n",
       "283724  -0.240440   0.530483  0.702510  0.689799 -0.377961  0.623708   \n",
       "283725  -0.533413  -0.189733  0.703337 -0.506271 -0.012546 -0.649617   \n",
       "\n",
       "              V7        V9       V10       V11       V12       V14       V16  \\\n",
       "0       0.239599  0.363787  0.090794 -0.551600 -0.617801 -0.311169 -0.470401   \n",
       "1      -0.078803 -0.255425 -0.166974  1.612727  1.065235 -0.143772  0.463917   \n",
       "2       0.791461 -1.514654  0.207643  0.624501  0.066084 -0.165946 -2.890083   \n",
       "3       0.237609 -1.387024 -0.054952 -0.226487  0.178228 -0.287924 -1.059647   \n",
       "4       0.592941  0.817739  0.753074 -0.822843  0.538196 -1.119670 -0.451449   \n",
       "...          ...       ...       ...       ...       ...       ...       ...   \n",
       "283721 -4.918215  1.914428  4.356170 -1.593105  2.711941  4.626942  1.107641   \n",
       "283722  0.024330  0.584800 -0.975926 -0.150189  0.915802 -0.675143 -0.711757   \n",
       "283723 -0.296827  0.432454 -0.484782  0.411614  0.063119 -0.510602  0.140716   \n",
       "283724 -0.686180  0.392087 -0.399126 -1.933849 -0.962886  0.449624 -0.608577   \n",
       "283725  1.577006  0.486180 -0.915427 -1.040458 -0.031513 -0.084316 -0.302620   \n",
       "\n",
       "             V17       V18  \n",
       "0       0.207971  0.025791  \n",
       "1      -0.114805 -0.183361  \n",
       "2       1.109969 -0.121359  \n",
       "3      -0.684093  1.965775  \n",
       "4      -0.237033 -0.038195  \n",
       "...          ...       ...  \n",
       "283721  1.991691  0.510632  \n",
       "283722 -0.025693 -1.221179  \n",
       "283723  0.313502  0.395652  \n",
       "283724  0.509928  1.113981  \n",
       "283725 -0.660377  0.167430  \n",
       "\n",
       "[283726 rows x 15 columns]"
      ]
     },
     "execution_count": 20,
     "metadata": {},
     "output_type": "execute_result"
    }
   ],
   "source": [
    "new_x =pd.DataFrame(set_X,columns= [ i for i,j in zip (X.columns, F_50.get_support()) if j == True ])\n",
    "new_x"
   ]
  },
  {
   "cell_type": "code",
   "execution_count": 21,
   "id": "6465c1e5",
   "metadata": {
    "execution": {
     "iopub.execute_input": "2024-02-26T18:09:43.696193Z",
     "iopub.status.busy": "2024-02-26T18:09:43.695470Z",
     "iopub.status.idle": "2024-02-26T18:09:43.703580Z",
     "shell.execute_reply": "2024-02-26T18:09:43.702370Z"
    },
    "papermill": {
     "duration": 0.027623,
     "end_time": "2024-02-26T18:09:43.706280",
     "exception": false,
     "start_time": "2024-02-26T18:09:43.678657",
     "status": "completed"
    },
    "tags": []
   },
   "outputs": [
    {
     "data": {
      "text/plain": [
       "0         0\n",
       "1         0\n",
       "2         0\n",
       "3         0\n",
       "4         0\n",
       "         ..\n",
       "284802    0\n",
       "284803    0\n",
       "284804    0\n",
       "284805    0\n",
       "284806    0\n",
       "Name: Class, Length: 283726, dtype: int64"
      ]
     },
     "execution_count": 21,
     "metadata": {},
     "output_type": "execute_result"
    }
   ],
   "source": [
    "y"
   ]
  },
  {
   "cell_type": "code",
   "execution_count": 22,
   "id": "56a68d8e",
   "metadata": {
    "execution": {
     "iopub.execute_input": "2024-02-26T18:09:43.736975Z",
     "iopub.status.busy": "2024-02-26T18:09:43.736540Z",
     "iopub.status.idle": "2024-02-26T18:09:43.794821Z",
     "shell.execute_reply": "2024-02-26T18:09:43.793146Z"
    },
    "papermill": {
     "duration": 0.076887,
     "end_time": "2024-02-26T18:09:43.797552",
     "exception": false,
     "start_time": "2024-02-26T18:09:43.720665",
     "status": "completed"
    },
    "tags": []
   },
   "outputs": [
    {
     "name": "stdout",
     "output_type": "stream",
     "text": [
      "X Train :  (212794, 15)\n",
      "X Test  :  (70932, 15)\n",
      "Y Train :  (212794,)\n",
      "Y Test  :  (70932,)\n"
     ]
    }
   ],
   "source": [
    "X = new_x      \n",
    "y = df[\"Class\"]    # y = class\n",
    "\n",
    "# split the data train and test\n",
    "X_train, X_test, y_train, y_test = train_test_split(X, y, test_size=0.25, random_state=42)\n",
    "\n",
    "print(\"X Train : \", X_train.shape)\n",
    "print(\"X Test  : \", X_test.shape)\n",
    "print(\"Y Train : \", y_train.shape)\n",
    "print(\"Y Test  : \", y_test.shape)"
   ]
  },
  {
   "cell_type": "code",
   "execution_count": 23,
   "id": "ca56b029",
   "metadata": {
    "execution": {
     "iopub.execute_input": "2024-02-26T18:09:43.828985Z",
     "iopub.status.busy": "2024-02-26T18:09:43.828186Z",
     "iopub.status.idle": "2024-02-26T18:19:55.358983Z",
     "shell.execute_reply": "2024-02-26T18:19:55.357638Z"
    },
    "papermill": {
     "duration": 611.562375,
     "end_time": "2024-02-26T18:19:55.374537",
     "exception": false,
     "start_time": "2024-02-26T18:09:43.812162",
     "status": "completed"
    },
    "tags": []
   },
   "outputs": [
    {
     "name": "stdout",
     "output_type": "stream",
     "text": [
      "LogisticRegression() :               precision    recall  f1-score   support\n",
      "\n",
      "           0       1.00      1.00      1.00     70820\n",
      "           1       0.90      0.54      0.67       112\n",
      "\n",
      "    accuracy                           1.00     70932\n",
      "   macro avg       0.95      0.77      0.83     70932\n",
      "weighted avg       1.00      1.00      1.00     70932\n",
      "\n",
      "********************************************\n",
      "DecisionTreeClassifier() :               precision    recall  f1-score   support\n",
      "\n",
      "           0       1.00      1.00      1.00     70820\n",
      "           1       0.72      0.67      0.69       112\n",
      "\n",
      "    accuracy                           1.00     70932\n",
      "   macro avg       0.86      0.83      0.85     70932\n",
      "weighted avg       1.00      1.00      1.00     70932\n",
      "\n",
      "********************************************\n",
      "RandomForestClassifier() :               precision    recall  f1-score   support\n",
      "\n",
      "           0       1.00      1.00      1.00     70820\n",
      "           1       0.94      0.73      0.82       112\n",
      "\n",
      "    accuracy                           1.00     70932\n",
      "   macro avg       0.97      0.87      0.91     70932\n",
      "weighted avg       1.00      1.00      1.00     70932\n",
      "\n",
      "********************************************\n",
      "KNeighborsClassifier() :               precision    recall  f1-score   support\n",
      "\n",
      "           0       1.00      1.00      1.00     70820\n",
      "           1       0.92      0.76      0.83       112\n",
      "\n",
      "    accuracy                           1.00     70932\n",
      "   macro avg       0.96      0.88      0.92     70932\n",
      "weighted avg       1.00      1.00      1.00     70932\n",
      "\n",
      "********************************************\n",
      "SVC() :               precision    recall  f1-score   support\n",
      "\n",
      "           0       1.00      1.00      1.00     70820\n",
      "           1       0.97      0.67      0.79       112\n",
      "\n",
      "    accuracy                           1.00     70932\n",
      "   macro avg       0.99      0.83      0.90     70932\n",
      "weighted avg       1.00      1.00      1.00     70932\n",
      "\n",
      "********************************************\n",
      "MLPClassifier() :               precision    recall  f1-score   support\n",
      "\n",
      "           0       1.00      1.00      1.00     70820\n",
      "           1       0.90      0.76      0.83       112\n",
      "\n",
      "    accuracy                           1.00     70932\n",
      "   macro avg       0.95      0.88      0.91     70932\n",
      "weighted avg       1.00      1.00      1.00     70932\n",
      "\n",
      "********************************************\n"
     ]
    }
   ],
   "source": [
    "li = [LR,DTR,RFR,KNR,SVC,MLP]\n",
    "\n",
    "for i in li:\n",
    "    i.fit(X_train,y_train)\n",
    "    ypred = i.predict(X_test)\n",
    "    print(i,\":\",classification_report(y_test,ypred))\n",
    "    print(\"********************************************\")"
   ]
  },
  {
   "cell_type": "code",
   "execution_count": null,
   "id": "7d99f402",
   "metadata": {
    "papermill": {
     "duration": 0.015286,
     "end_time": "2024-02-26T18:19:55.405361",
     "exception": false,
     "start_time": "2024-02-26T18:19:55.390075",
     "status": "completed"
    },
    "tags": []
   },
   "outputs": [],
   "source": []
  }
 ],
 "metadata": {
  "kaggle": {
   "accelerator": "none",
   "dataSources": [
    {
     "datasetId": 310,
     "sourceId": 23498,
     "sourceType": "datasetVersion"
    }
   ],
   "dockerImageVersionId": 30646,
   "isGpuEnabled": false,
   "isInternetEnabled": false,
   "language": "python",
   "sourceType": "notebook"
  },
  "kernelspec": {
   "display_name": "Python 3",
   "language": "python",
   "name": "python3"
  },
  "language_info": {
   "codemirror_mode": {
    "name": "ipython",
    "version": 3
   },
   "file_extension": ".py",
   "mimetype": "text/x-python",
   "name": "python",
   "nbconvert_exporter": "python",
   "pygments_lexer": "ipython3",
   "version": "3.10.13"
  },
  "papermill": {
   "default_parameters": {},
   "duration": 1122.000012,
   "end_time": "2024-02-26T18:19:56.447631",
   "environment_variables": {},
   "exception": null,
   "input_path": "__notebook__.ipynb",
   "output_path": "__notebook__.ipynb",
   "parameters": {},
   "start_time": "2024-02-26T18:01:14.447619",
   "version": "2.5.0"
  }
 },
 "nbformat": 4,
 "nbformat_minor": 5
}
